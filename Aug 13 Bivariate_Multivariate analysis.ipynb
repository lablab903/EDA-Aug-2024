{
 "cells": [
  {
   "cell_type": "code",
   "execution_count": 1,
   "id": "e0edda96-5247-436c-a496-2ac385278efe",
   "metadata": {},
   "outputs": [],
   "source": [
    "import pandas as pd\n",
    "import numpy as np\n",
    "import matplotlib.pyplot as plt\n",
    "import seaborn as sns"
   ]
  },
  {
   "cell_type": "code",
   "execution_count": 3,
   "id": "685ffe60-0ad3-468f-b605-0d114432046f",
   "metadata": {},
   "outputs": [],
   "source": [
    "# Read the data. Visadataset.csv file has 12 cols\n",
    "\n",
    "path=r\"C:\\Users\\User\\OneDrive\\Desktop\\Omkar sir\\DATA files\\Visadataset.csv\""
   ]
  },
  {
   "cell_type": "code",
   "execution_count": 5,
   "id": "7b62a0ed-0c1d-4666-a8d9-e5863c7b58f3",
   "metadata": {},
   "outputs": [
    {
     "data": {
      "text/html": [
       "<div>\n",
       "<style scoped>\n",
       "    .dataframe tbody tr th:only-of-type {\n",
       "        vertical-align: middle;\n",
       "    }\n",
       "\n",
       "    .dataframe tbody tr th {\n",
       "        vertical-align: top;\n",
       "    }\n",
       "\n",
       "    .dataframe thead th {\n",
       "        text-align: right;\n",
       "    }\n",
       "</style>\n",
       "<table border=\"1\" class=\"dataframe\">\n",
       "  <thead>\n",
       "    <tr style=\"text-align: right;\">\n",
       "      <th></th>\n",
       "      <th>case_id</th>\n",
       "      <th>continent</th>\n",
       "      <th>education_of_employee</th>\n",
       "      <th>has_job_experience</th>\n",
       "      <th>requires_job_training</th>\n",
       "      <th>no_of_employees</th>\n",
       "      <th>yr_of_estab</th>\n",
       "      <th>region_of_employment</th>\n",
       "      <th>prevailing_wage</th>\n",
       "      <th>unit_of_wage</th>\n",
       "      <th>full_time_position</th>\n",
       "      <th>case_status</th>\n",
       "    </tr>\n",
       "  </thead>\n",
       "  <tbody>\n",
       "    <tr>\n",
       "      <th>0</th>\n",
       "      <td>EZYV01</td>\n",
       "      <td>Asia</td>\n",
       "      <td>High School</td>\n",
       "      <td>N</td>\n",
       "      <td>N</td>\n",
       "      <td>14513</td>\n",
       "      <td>2007</td>\n",
       "      <td>West</td>\n",
       "      <td>592.2029</td>\n",
       "      <td>Hour</td>\n",
       "      <td>Y</td>\n",
       "      <td>Denied</td>\n",
       "    </tr>\n",
       "    <tr>\n",
       "      <th>1</th>\n",
       "      <td>EZYV02</td>\n",
       "      <td>Asia</td>\n",
       "      <td>Master's</td>\n",
       "      <td>Y</td>\n",
       "      <td>N</td>\n",
       "      <td>2412</td>\n",
       "      <td>2002</td>\n",
       "      <td>Northeast</td>\n",
       "      <td>83425.6500</td>\n",
       "      <td>Year</td>\n",
       "      <td>Y</td>\n",
       "      <td>Certified</td>\n",
       "    </tr>\n",
       "    <tr>\n",
       "      <th>2</th>\n",
       "      <td>EZYV03</td>\n",
       "      <td>Asia</td>\n",
       "      <td>Bachelor's</td>\n",
       "      <td>N</td>\n",
       "      <td>Y</td>\n",
       "      <td>44444</td>\n",
       "      <td>2008</td>\n",
       "      <td>West</td>\n",
       "      <td>122996.8600</td>\n",
       "      <td>Year</td>\n",
       "      <td>Y</td>\n",
       "      <td>Denied</td>\n",
       "    </tr>\n",
       "    <tr>\n",
       "      <th>3</th>\n",
       "      <td>EZYV04</td>\n",
       "      <td>Asia</td>\n",
       "      <td>Bachelor's</td>\n",
       "      <td>N</td>\n",
       "      <td>N</td>\n",
       "      <td>98</td>\n",
       "      <td>1897</td>\n",
       "      <td>West</td>\n",
       "      <td>83434.0300</td>\n",
       "      <td>Year</td>\n",
       "      <td>Y</td>\n",
       "      <td>Denied</td>\n",
       "    </tr>\n",
       "    <tr>\n",
       "      <th>4</th>\n",
       "      <td>EZYV05</td>\n",
       "      <td>Africa</td>\n",
       "      <td>Master's</td>\n",
       "      <td>Y</td>\n",
       "      <td>N</td>\n",
       "      <td>1082</td>\n",
       "      <td>2005</td>\n",
       "      <td>South</td>\n",
       "      <td>149907.3900</td>\n",
       "      <td>Year</td>\n",
       "      <td>Y</td>\n",
       "      <td>Certified</td>\n",
       "    </tr>\n",
       "  </tbody>\n",
       "</table>\n",
       "</div>"
      ],
      "text/plain": [
       "  case_id continent education_of_employee has_job_experience  \\\n",
       "0  EZYV01      Asia           High School                  N   \n",
       "1  EZYV02      Asia              Master's                  Y   \n",
       "2  EZYV03      Asia            Bachelor's                  N   \n",
       "3  EZYV04      Asia            Bachelor's                  N   \n",
       "4  EZYV05    Africa              Master's                  Y   \n",
       "\n",
       "  requires_job_training  no_of_employees  yr_of_estab region_of_employment  \\\n",
       "0                     N            14513         2007                 West   \n",
       "1                     N             2412         2002            Northeast   \n",
       "2                     Y            44444         2008                 West   \n",
       "3                     N               98         1897                 West   \n",
       "4                     N             1082         2005                South   \n",
       "\n",
       "   prevailing_wage unit_of_wage full_time_position case_status  \n",
       "0         592.2029         Hour                  Y      Denied  \n",
       "1       83425.6500         Year                  Y   Certified  \n",
       "2      122996.8600         Year                  Y      Denied  \n",
       "3       83434.0300         Year                  Y      Denied  \n",
       "4      149907.3900         Year                  Y   Certified  "
      ]
     },
     "execution_count": 5,
     "metadata": {},
     "output_type": "execute_result"
    }
   ],
   "source": [
    "visa_df=pd.read_csv(r\"C:\\Users\\User\\OneDrive\\Desktop\\Omkar sir\\DATA files\\Visadataset.csv\")\n",
    "visa_df.head()"
   ]
  },
  {
   "cell_type": "code",
   "execution_count": 7,
   "id": "979e0bb9-339a-4002-997b-1138ec5a187a",
   "metadata": {},
   "outputs": [
    {
     "data": {
      "text/plain": [
       "Index(['no_of_employees', 'yr_of_estab', 'prevailing_wage'], dtype='object')"
      ]
     },
     "execution_count": 7,
     "metadata": {},
     "output_type": "execute_result"
    }
   ],
   "source": [
    "cat_columns=visa_df.select_dtypes(include='object').columns\n",
    "num_columns=visa_df.select_dtypes(exclude='object').columns\n",
    "\n",
    "num_columns"
   ]
  },
  {
   "cell_type": "markdown",
   "id": "b326b739-c249-4d9f-8340-530c8b73dd86",
   "metadata": {},
   "source": [
    "**Bi variate analysis**\n",
    "- We already seen Uni variate analysis\n",
    "- We performed the categorical columns analysis:\n",
    "- Frequency table (Value counts)\n",
    "- Bar chart\n",
    "\n",
    "\n",
    "- Relative frequency table (Value counts Normalized form)\n",
    "- Pie chart\n",
    "- We performed the numerical column analysis\n",
    "- Histogram\n",
    "- Distribution plots\n",
    "- Box plot\n",
    "- Outlier analysis\n",
    "- Filling the outliers\n",
    "\n",
    "# Now we will do Categorical-Categorical Analaysis\n",
    "- Numerical - Numerical analayis\n",
    "- Categorical - Numerical analysis\n",
    "- Categorical-Categorical\n",
    "\n",
    "#Lets consider two columns\n",
    "- Continent\n",
    "- Case status"
   ]
  },
  {
   "cell_type": "code",
   "execution_count": 9,
   "id": "5c80e6f4-2d8f-4dfb-bc26-8136d69ecfd6",
   "metadata": {},
   "outputs": [
    {
     "data": {
      "text/plain": [
       "continent\n",
       "Asia             16861\n",
       "Europe            3732\n",
       "North America     3292\n",
       "South America      852\n",
       "Africa             551\n",
       "Oceania            192\n",
       "Name: count, dtype: int64"
      ]
     },
     "execution_count": 9,
     "metadata": {},
     "output_type": "execute_result"
    }
   ],
   "source": [
    "# Continent\n",
    "# Aug7th video second half\n",
    "# I will cleaen up\n",
    "visa_df['continent'].value_counts()"
   ]
  },
  {
   "cell_type": "code",
   "execution_count": 12,
   "id": "095fb5a2-92ca-40bc-8ae2-9e0aae7577ef",
   "metadata": {},
   "outputs": [
    {
     "data": {
      "text/plain": [
       "case_status\n",
       "Certified    17018\n",
       "Denied        8462\n",
       "Name: count, dtype: int64"
      ]
     },
     "execution_count": 12,
     "metadata": {},
     "output_type": "execute_result"
    }
   ],
   "source": [
    "visa_df['case_status'].value_counts()"
   ]
  },
  {
   "cell_type": "markdown",
   "id": "1ce4ba7c-a0e5-4df8-a0aa-f13c6c4e3efc",
   "metadata": {},
   "source": [
    "**Task**\n",
    "- Find the Certified observations continent wise\n",
    "- Find the Denied observations continent wise"
   ]
  },
  {
   "cell_type": "code",
   "execution_count": 15,
   "id": "cbb2dbca-c97c-4b90-b28f-945803d8dd2f",
   "metadata": {},
   "outputs": [
    {
     "data": {
      "text/plain": [
       "11012"
      ]
     },
     "execution_count": 15,
     "metadata": {},
     "output_type": "execute_result"
    }
   ],
   "source": [
    "# Step-1: Make the first condition Continet=='Asia'\n",
    "# Step-2: Make the second condition case_status=='Certified'\n",
    "# Step-3: Make the Third condition: con1&con2\n",
    "# Step-4: Then retrive the dataframe and take the count\n",
    "\n",
    "\n",
    "con1=visa_df['continent']=='Asia'\n",
    "\n",
    "con2=visa_df['case_status']=='Certified'\n",
    "\n",
    "con3=con1&con2\n",
    "\n",
    "len(visa_df[con3])                                  # this output gives how many are certified from Asia\n"
   ]
  },
  {
   "cell_type": "code",
   "execution_count": 17,
   "id": "a7bcff45-3d0c-48e9-bab4-073844bf51b0",
   "metadata": {},
   "outputs": [
    {
     "data": {
      "text/plain": [
       "Index(['Asia', 'Europe', 'North America', 'South America', 'Africa',\n",
       "       'Oceania'],\n",
       "      dtype='object', name='continent')"
      ]
     },
     "execution_count": 17,
     "metadata": {},
     "output_type": "execute_result"
    }
   ],
   "source": [
    "visa_df['continent'].unique()\n",
    "visa_df['continent'].value_counts().keys()"
   ]
  },
  {
   "cell_type": "code",
   "execution_count": 19,
   "id": "9e5bb0bc-7d6a-4bf6-8d1d-4046bf9a2dbf",
   "metadata": {},
   "outputs": [
    {
     "data": {
      "text/plain": [
       "continent\n",
       "Asia             16861\n",
       "Europe            3732\n",
       "North America     3292\n",
       "South America      852\n",
       "Africa             551\n",
       "Oceania            192\n",
       "Name: count, dtype: int64"
      ]
     },
     "execution_count": 19,
     "metadata": {},
     "output_type": "execute_result"
    }
   ],
   "source": [
    "visa_df['continent'].unique()\n",
    "visa_df['continent'].value_counts()"
   ]
  },
  {
   "cell_type": "code",
   "execution_count": 23,
   "id": "77f5e4ad-3ffd-451e-b748-5966efbb57ad",
   "metadata": {},
   "outputs": [
    {
     "data": {
      "text/plain": [
       "continent\n",
       "Asia             16861\n",
       "Europe            3732\n",
       "North America     3292\n",
       "South America      852\n",
       "Africa             551\n",
       "Oceania            192\n",
       "Name: count, dtype: int64"
      ]
     },
     "execution_count": 23,
     "metadata": {},
     "output_type": "execute_result"
    }
   ],
   "source": [
    "# visa_df['continent'].unique()\n",
    "visa_df['continent'].value_counts()"
   ]
  },
  {
   "cell_type": "code",
   "execution_count": 25,
   "id": "63a7b20f-a60e-4fe6-a64a-dc96524f63ad",
   "metadata": {},
   "outputs": [
    {
     "name": "stdout",
     "output_type": "stream",
     "text": [
      "the number of certified visa from Asia is: 11012\n",
      "the number of certified visa from Africa is: 397\n",
      "the number of certified visa from North America is: 2037\n",
      "the number of certified visa from Europe is: 2957\n",
      "the number of certified visa from South America is: 493\n",
      "the number of certified visa from Oceania is: 122\n"
     ]
    }
   ],
   "source": [
    "# to get 'certified' from all continents , use for loop wnd initialize empty list\n",
    "\n",
    "continents=visa_df['continent'].unique()\n",
    "\n",
    "certified_list=[]\n",
    "\n",
    "for i in continents:\n",
    "    \n",
    " con1=visa_df['continent']==i\n",
    "    \n",
    " con2=visa_df['case_status']=='Certified'\n",
    "    \n",
    " con3=con1&con2\n",
    "    \n",
    " count=len(visa_df[con3])\n",
    "    \n",
    " print(f\"the number of certified visa from {i} is: {count}\")\n",
    "    \n"
   ]
  },
  {
   "cell_type": "code",
   "execution_count": 31,
   "id": "2d03ccc1-81f8-43f9-94d1-c11c2fd5c73a",
   "metadata": {},
   "outputs": [
    {
     "name": "stdout",
     "output_type": "stream",
     "text": [
      "the number of certified visa from Asia is: 11012\n",
      "the number of Denied visa from Asia is: 5849\n",
      "\n",
      "\n",
      "the number of certified visa from Africa is: 397\n",
      "the number of Denied visa from Africa is: 154\n",
      "\n",
      "\n",
      "the number of certified visa from North America is: 2037\n",
      "the number of Denied visa from North America is: 1255\n",
      "\n",
      "\n",
      "the number of certified visa from Europe is: 2957\n",
      "the number of Denied visa from Europe is: 775\n",
      "\n",
      "\n",
      "the number of certified visa from South America is: 493\n",
      "the number of Denied visa from South America is: 359\n",
      "\n",
      "\n",
      "the number of certified visa from Oceania is: 122\n",
      "the number of Denied visa from Oceania is: 70\n",
      "\n",
      "\n"
     ]
    }
   ],
   "source": [
    "# to get, how many are 'certified' and how many are''denied' from each continent:\n",
    "\n",
    "\n",
    "continents=visa_df['continent'].unique()\n",
    "\n",
    "certified_list,denied_list=[],[]\n",
    "\n",
    "for i in continents:\n",
    "    \n",
    " con1=visa_df['continent']==i\n",
    "    \n",
    " con2=visa_df['case_status']=='Certified'\n",
    "    \n",
    " con3=visa_df['case_status']=='Denied'\n",
    "    \n",
    " cert_con=con1&con2\n",
    "    \n",
    " den_con=con1&con3\n",
    "    \n",
    " cert_count=len(visa_df[cert_con])\n",
    "    \n",
    " den_count=len(visa_df[den_con])\n",
    "    \n",
    " print(f\"the number of certified visa from {i} is: {cert_count}\")\n",
    "    \n",
    " print(f\"the number of Denied visa from {i} is: {den_count}\")\n",
    "    \n",
    " print('\\n')\n",
    "    \n",
    " certified_list.append(cert_count)\n",
    "    \n",
    " denied_list.append(den_count)\n",
    "  "
   ]
  },
  {
   "cell_type": "code",
   "execution_count": 62,
   "id": "b363555f-f46d-47f1-823f-4f6f8e5ba508",
   "metadata": {},
   "outputs": [
    {
     "data": {
      "text/html": [
       "<div>\n",
       "<style scoped>\n",
       "    .dataframe tbody tr th:only-of-type {\n",
       "        vertical-align: middle;\n",
       "    }\n",
       "\n",
       "    .dataframe tbody tr th {\n",
       "        vertical-align: top;\n",
       "    }\n",
       "\n",
       "    .dataframe thead th {\n",
       "        text-align: right;\n",
       "    }\n",
       "</style>\n",
       "<table border=\"1\" class=\"dataframe\">\n",
       "  <thead>\n",
       "    <tr style=\"text-align: right;\">\n",
       "      <th></th>\n",
       "      <th>Continents</th>\n",
       "      <th>Certified</th>\n",
       "    </tr>\n",
       "  </thead>\n",
       "  <tbody>\n",
       "    <tr>\n",
       "      <th>0</th>\n",
       "      <td>Asia</td>\n",
       "      <td>11012</td>\n",
       "    </tr>\n",
       "    <tr>\n",
       "      <th>1</th>\n",
       "      <td>Africa</td>\n",
       "      <td>397</td>\n",
       "    </tr>\n",
       "    <tr>\n",
       "      <th>2</th>\n",
       "      <td>North America</td>\n",
       "      <td>2037</td>\n",
       "    </tr>\n",
       "    <tr>\n",
       "      <th>3</th>\n",
       "      <td>Europe</td>\n",
       "      <td>2957</td>\n",
       "    </tr>\n",
       "    <tr>\n",
       "      <th>4</th>\n",
       "      <td>South America</td>\n",
       "      <td>493</td>\n",
       "    </tr>\n",
       "    <tr>\n",
       "      <th>5</th>\n",
       "      <td>Oceania</td>\n",
       "      <td>122</td>\n",
       "    </tr>\n",
       "  </tbody>\n",
       "</table>\n",
       "</div>"
      ],
      "text/plain": [
       "      Continents  Certified\n",
       "0           Asia      11012\n",
       "1         Africa        397\n",
       "2  North America       2037\n",
       "3         Europe       2957\n",
       "4  South America        493\n",
       "5        Oceania        122"
      ]
     },
     "execution_count": 62,
     "metadata": {},
     "output_type": "execute_result"
    }
   ],
   "source": [
    "# DF...dataframe\n",
    "# continents\n",
    "# certified_list\n",
    "\n",
    "cols=['Continents','Certified']                                 # col headings\n",
    "\n",
    "df1=pd.DataFrame(zip(continents,certified_list),\n",
    " columns=cols)\n",
    "\n",
    "df1"
   ]
  },
  {
   "cell_type": "code",
   "execution_count": 43,
   "id": "fef48596-cd29-405c-bcfa-acfd86754ce2",
   "metadata": {},
   "outputs": [
    {
     "data": {
      "text/html": [
       "<div>\n",
       "<style scoped>\n",
       "    .dataframe tbody tr th:only-of-type {\n",
       "        vertical-align: middle;\n",
       "    }\n",
       "\n",
       "    .dataframe tbody tr th {\n",
       "        vertical-align: top;\n",
       "    }\n",
       "\n",
       "    .dataframe thead th {\n",
       "        text-align: right;\n",
       "    }\n",
       "</style>\n",
       "<table border=\"1\" class=\"dataframe\">\n",
       "  <thead>\n",
       "    <tr style=\"text-align: right;\">\n",
       "      <th></th>\n",
       "      <th>Continents</th>\n",
       "      <th>Denied</th>\n",
       "    </tr>\n",
       "  </thead>\n",
       "  <tbody>\n",
       "    <tr>\n",
       "      <th>0</th>\n",
       "      <td>Asia</td>\n",
       "      <td>5849</td>\n",
       "    </tr>\n",
       "    <tr>\n",
       "      <th>1</th>\n",
       "      <td>Africa</td>\n",
       "      <td>154</td>\n",
       "    </tr>\n",
       "    <tr>\n",
       "      <th>2</th>\n",
       "      <td>North America</td>\n",
       "      <td>1255</td>\n",
       "    </tr>\n",
       "    <tr>\n",
       "      <th>3</th>\n",
       "      <td>Europe</td>\n",
       "      <td>775</td>\n",
       "    </tr>\n",
       "    <tr>\n",
       "      <th>4</th>\n",
       "      <td>South America</td>\n",
       "      <td>359</td>\n",
       "    </tr>\n",
       "    <tr>\n",
       "      <th>5</th>\n",
       "      <td>Oceania</td>\n",
       "      <td>70</td>\n",
       "    </tr>\n",
       "  </tbody>\n",
       "</table>\n",
       "</div>"
      ],
      "text/plain": [
       "      Continents  Denied\n",
       "0           Asia    5849\n",
       "1         Africa     154\n",
       "2  North America    1255\n",
       "3         Europe     775\n",
       "4  South America     359\n",
       "5        Oceania      70"
      ]
     },
     "execution_count": 43,
     "metadata": {},
     "output_type": "execute_result"
    }
   ],
   "source": [
    "# data frame\n",
    "\n",
    "cols=['Continents','Denied']                                     # col headings\n",
    "\n",
    "df2=pd.DataFrame(zip(continents,denied_list),\n",
    " columns=cols)\n",
    "\n",
    "df2"
   ]
  },
  {
   "cell_type": "code",
   "execution_count": 45,
   "id": "44b77c43-d1e9-4252-823d-a98eecf04eda",
   "metadata": {},
   "outputs": [
    {
     "data": {
      "text/html": [
       "<div>\n",
       "<style scoped>\n",
       "    .dataframe tbody tr th:only-of-type {\n",
       "        vertical-align: middle;\n",
       "    }\n",
       "\n",
       "    .dataframe tbody tr th {\n",
       "        vertical-align: top;\n",
       "    }\n",
       "\n",
       "    .dataframe thead th {\n",
       "        text-align: right;\n",
       "    }\n",
       "</style>\n",
       "<table border=\"1\" class=\"dataframe\">\n",
       "  <thead>\n",
       "    <tr style=\"text-align: right;\">\n",
       "      <th></th>\n",
       "      <th>Certified</th>\n",
       "      <th>Denied</th>\n",
       "    </tr>\n",
       "  </thead>\n",
       "  <tbody>\n",
       "    <tr>\n",
       "      <th>Asia</th>\n",
       "      <td>11012</td>\n",
       "      <td>5849</td>\n",
       "    </tr>\n",
       "    <tr>\n",
       "      <th>Africa</th>\n",
       "      <td>397</td>\n",
       "      <td>154</td>\n",
       "    </tr>\n",
       "    <tr>\n",
       "      <th>North America</th>\n",
       "      <td>2037</td>\n",
       "      <td>1255</td>\n",
       "    </tr>\n",
       "    <tr>\n",
       "      <th>Europe</th>\n",
       "      <td>2957</td>\n",
       "      <td>775</td>\n",
       "    </tr>\n",
       "    <tr>\n",
       "      <th>South America</th>\n",
       "      <td>493</td>\n",
       "      <td>359</td>\n",
       "    </tr>\n",
       "    <tr>\n",
       "      <th>Oceania</th>\n",
       "      <td>122</td>\n",
       "      <td>70</td>\n",
       "    </tr>\n",
       "  </tbody>\n",
       "</table>\n",
       "</div>"
      ],
      "text/plain": [
       "               Certified  Denied\n",
       "Asia               11012    5849\n",
       "Africa               397     154\n",
       "North America       2037    1255\n",
       "Europe              2957     775\n",
       "South America        493     359\n",
       "Oceania              122      70"
      ]
     },
     "execution_count": 45,
     "metadata": {},
     "output_type": "execute_result"
    }
   ],
   "source": [
    "# data frame\n",
    "\n",
    "cols=['Certified','Denied']                                 # col headings\n",
    "\n",
    "df3=pd.DataFrame(zip(certified_list,denied_list),\n",
    " index=continents,\n",
    " columns=cols)\n",
    "\n",
    "df3"
   ]
  },
  {
   "cell_type": "markdown",
   "id": "30f253de-dfd5-4144-8930-9e4062d55a33",
   "metadata": {},
   "source": [
    "**Cross tab**\n",
    "  \n",
    "- The above data frame we can make by using a method: cross tab\n",
    "- It is available in pandas\n",
    "  \n",
    "- It takes two arguments:\n",
    "- index\n",
    "- column\n",
    "  \n",
    "- In above data frame index column is : continent\n",
    "- In above data frame Data column is : case_status"
   ]
  },
  {
   "cell_type": "code",
   "execution_count": 51,
   "id": "2e18adab-a5d5-403f-a12a-40017790e5fc",
   "metadata": {},
   "outputs": [
    {
     "data": {
      "text/html": [
       "<div>\n",
       "<style scoped>\n",
       "    .dataframe tbody tr th:only-of-type {\n",
       "        vertical-align: middle;\n",
       "    }\n",
       "\n",
       "    .dataframe tbody tr th {\n",
       "        vertical-align: top;\n",
       "    }\n",
       "\n",
       "    .dataframe thead th {\n",
       "        text-align: right;\n",
       "    }\n",
       "</style>\n",
       "<table border=\"1\" class=\"dataframe\">\n",
       "  <thead>\n",
       "    <tr style=\"text-align: right;\">\n",
       "      <th>case_status</th>\n",
       "      <th>Certified</th>\n",
       "      <th>Denied</th>\n",
       "    </tr>\n",
       "    <tr>\n",
       "      <th>continent</th>\n",
       "      <th></th>\n",
       "      <th></th>\n",
       "    </tr>\n",
       "  </thead>\n",
       "  <tbody>\n",
       "    <tr>\n",
       "      <th>Africa</th>\n",
       "      <td>397</td>\n",
       "      <td>154</td>\n",
       "    </tr>\n",
       "    <tr>\n",
       "      <th>Asia</th>\n",
       "      <td>11012</td>\n",
       "      <td>5849</td>\n",
       "    </tr>\n",
       "    <tr>\n",
       "      <th>Europe</th>\n",
       "      <td>2957</td>\n",
       "      <td>775</td>\n",
       "    </tr>\n",
       "    <tr>\n",
       "      <th>North America</th>\n",
       "      <td>2037</td>\n",
       "      <td>1255</td>\n",
       "    </tr>\n",
       "    <tr>\n",
       "      <th>Oceania</th>\n",
       "      <td>122</td>\n",
       "      <td>70</td>\n",
       "    </tr>\n",
       "    <tr>\n",
       "      <th>South America</th>\n",
       "      <td>493</td>\n",
       "      <td>359</td>\n",
       "    </tr>\n",
       "  </tbody>\n",
       "</table>\n",
       "</div>"
      ],
      "text/plain": [
       "case_status    Certified  Denied\n",
       "continent                       \n",
       "Africa               397     154\n",
       "Asia               11012    5849\n",
       "Europe              2957     775\n",
       "North America       2037    1255\n",
       "Oceania              122      70\n",
       "South America        493     359"
      ]
     },
     "execution_count": 51,
     "metadata": {},
     "output_type": "execute_result"
    }
   ],
   "source": [
    "# Crosstab index col with data cols\n",
    "\n",
    "idx_column=visa_df['continent']                                   # index col\n",
    "\n",
    "data_column=visa_df['case_status']                                 # data column            \n",
    "\n",
    "df4=pd.crosstab(idx_column,data_column)\n",
    "\n",
    "df4\n"
   ]
  },
  {
   "cell_type": "code",
   "execution_count": 53,
   "id": "39380a02-a707-42d8-8087-d4bf2d4c1829",
   "metadata": {},
   "outputs": [
    {
     "data": {
      "text/plain": [
       "<Axes: xlabel='continent'>"
      ]
     },
     "execution_count": 53,
     "metadata": {},
     "output_type": "execute_result"
    },
    {
     "data": {
      "image/png": "[encoded data removed]",
      "text/plain": [
       "<Figure size 640x480 with 1 Axes>"
      ]
     },
     "metadata": {},
     "output_type": "display_data"
    }
   ],
   "source": [
    "df4.plot(kind='bar')"
   ]
  },
  {
   "cell_type": "code",
   "execution_count": 55,
   "id": "4b3e9a9f-48df-4f3e-9b1c-067b783173da",
   "metadata": {},
   "outputs": [
    {
     "data": {
      "text/plain": [
       "<Axes: >"
      ]
     },
     "execution_count": 55,
     "metadata": {},
     "output_type": "execute_result"
    },
    {
     "data": {
      "image/png": "[encoded data removed]",
      "text/plain": [
       "<Figure size 640x480 with 1 Axes>"
      ]
     },
     "metadata": {},
     "output_type": "display_data"
    }
   ],
   "source": [
    "df3.plot(kind='bar')"
   ]
  },
  {
   "cell_type": "markdown",
   "id": "4b92cd84-9c50-47cb-b641-6f271b411642",
   "metadata": {},
   "source": [
    "**Multivariate analysis**\n",
    "- Education\n",
    "- continent\n",
    "- Case status\n",
    "- we already know from Asia there 11k Accepted visa\n",
    "- In that I want furthur break down based on education\n",
    "- here also pd.cross tab\n",
    " - first fix your index of any one column out of three column\n",
    " - Then keep two column in a list and pass as data column"
   ]
  },
  {
   "cell_type": "code",
   "execution_count": 58,
   "id": "f802a4a6-3511-4a43-bc77-fad997d05ed9",
   "metadata": {},
   "outputs": [
    {
     "data": {
      "text/html": [
       "<div>\n",
       "<style scoped>\n",
       "    .dataframe tbody tr th:only-of-type {\n",
       "        vertical-align: middle;\n",
       "    }\n",
       "\n",
       "    .dataframe tbody tr th {\n",
       "        vertical-align: top;\n",
       "    }\n",
       "\n",
       "    .dataframe thead tr th {\n",
       "        text-align: left;\n",
       "    }\n",
       "\n",
       "    .dataframe thead tr:last-of-type th {\n",
       "        text-align: right;\n",
       "    }\n",
       "</style>\n",
       "<table border=\"1\" class=\"dataframe\">\n",
       "  <thead>\n",
       "    <tr>\n",
       "      <th>education_of_employee</th>\n",
       "      <th colspan=\"2\" halign=\"left\">Bachelor's</th>\n",
       "      <th colspan=\"2\" halign=\"left\">Doctorate</th>\n",
       "      <th colspan=\"2\" halign=\"left\">High School</th>\n",
       "      <th colspan=\"2\" halign=\"left\">Master's</th>\n",
       "    </tr>\n",
       "    <tr>\n",
       "      <th>case_status</th>\n",
       "      <th>Certified</th>\n",
       "      <th>Denied</th>\n",
       "      <th>Certified</th>\n",
       "      <th>Denied</th>\n",
       "      <th>Certified</th>\n",
       "      <th>Denied</th>\n",
       "      <th>Certified</th>\n",
       "      <th>Denied</th>\n",
       "    </tr>\n",
       "    <tr>\n",
       "      <th>continent</th>\n",
       "      <th></th>\n",
       "      <th></th>\n",
       "      <th></th>\n",
       "      <th></th>\n",
       "      <th></th>\n",
       "      <th></th>\n",
       "      <th></th>\n",
       "      <th></th>\n",
       "    </tr>\n",
       "  </thead>\n",
       "  <tbody>\n",
       "    <tr>\n",
       "      <th>Africa</th>\n",
       "      <td>81</td>\n",
       "      <td>62</td>\n",
       "      <td>43</td>\n",
       "      <td>11</td>\n",
       "      <td>23</td>\n",
       "      <td>43</td>\n",
       "      <td>250</td>\n",
       "      <td>38</td>\n",
       "    </tr>\n",
       "    <tr>\n",
       "      <th>Asia</th>\n",
       "      <td>4407</td>\n",
       "      <td>2761</td>\n",
       "      <td>780</td>\n",
       "      <td>143</td>\n",
       "      <td>676</td>\n",
       "      <td>1614</td>\n",
       "      <td>5149</td>\n",
       "      <td>1331</td>\n",
       "    </tr>\n",
       "    <tr>\n",
       "      <th>Europe</th>\n",
       "      <td>1040</td>\n",
       "      <td>259</td>\n",
       "      <td>788</td>\n",
       "      <td>58</td>\n",
       "      <td>162</td>\n",
       "      <td>328</td>\n",
       "      <td>967</td>\n",
       "      <td>130</td>\n",
       "    </tr>\n",
       "    <tr>\n",
       "      <th>North America</th>\n",
       "      <td>641</td>\n",
       "      <td>584</td>\n",
       "      <td>207</td>\n",
       "      <td>51</td>\n",
       "      <td>210</td>\n",
       "      <td>191</td>\n",
       "      <td>979</td>\n",
       "      <td>429</td>\n",
       "    </tr>\n",
       "    <tr>\n",
       "      <th>Oceania</th>\n",
       "      <td>38</td>\n",
       "      <td>28</td>\n",
       "      <td>19</td>\n",
       "      <td>3</td>\n",
       "      <td>19</td>\n",
       "      <td>17</td>\n",
       "      <td>46</td>\n",
       "      <td>22</td>\n",
       "    </tr>\n",
       "    <tr>\n",
       "      <th>South America</th>\n",
       "      <td>160</td>\n",
       "      <td>173</td>\n",
       "      <td>75</td>\n",
       "      <td>14</td>\n",
       "      <td>74</td>\n",
       "      <td>63</td>\n",
       "      <td>184</td>\n",
       "      <td>109</td>\n",
       "    </tr>\n",
       "  </tbody>\n",
       "</table>\n",
       "</div>"
      ],
      "text/plain": [
       "education_of_employee Bachelor's        Doctorate        High School         \\\n",
       "case_status            Certified Denied Certified Denied   Certified Denied   \n",
       "continent                                                                     \n",
       "Africa                        81     62        43     11          23     43   \n",
       "Asia                        4407   2761       780    143         676   1614   \n",
       "Europe                      1040    259       788     58         162    328   \n",
       "North America                641    584       207     51         210    191   \n",
       "Oceania                       38     28        19      3          19     17   \n",
       "South America                160    173        75     14          74     63   \n",
       "\n",
       "education_of_employee  Master's         \n",
       "case_status           Certified Denied  \n",
       "continent                               \n",
       "Africa                      250     38  \n",
       "Asia                       5149   1331  \n",
       "Europe                      967    130  \n",
       "North America               979    429  \n",
       "Oceania                      46     22  \n",
       "South America               184    109  "
      ]
     },
     "execution_count": 58,
     "metadata": {},
     "output_type": "execute_result"
    }
   ],
   "source": [
    "# Crosstab index col with data cols\n",
    "\n",
    "idx_column=visa_df['continent']                                     # index col\n",
    "\n",
    "data_column=[visa_df['education_of_employee'],                      # data column\n",
    " visa_df['case_status']]\n",
    "\n",
    "df5=pd.crosstab(idx_column,data_column)\n",
    "\n",
    "df5\n"
   ]
  },
  {
   "cell_type": "code",
   "execution_count": 60,
   "id": "5ae16997-9ff4-436a-b2f2-40a2731b5ee5",
   "metadata": {},
   "outputs": [
    {
     "data": {
      "text/plain": [
       "<Axes: xlabel='continent'>"
      ]
     },
     "execution_count": 60,
     "metadata": {},
     "output_type": "execute_result"
    },
    {
     "data": {
      "image/png": "[encoded data removed]",
      "text/plain": [
       "<Figure size 640x480 with 1 Axes>"
      ]
     },
     "metadata": {},
     "output_type": "display_data"
    }
   ],
   "source": [
    "df5.plot(kind='bar')"
   ]
  },
  {
   "cell_type": "code",
   "execution_count": null,
   "id": "569656b8-bfb2-4c36-b584-0d52b12f6d43",
   "metadata": {},
   "outputs": [],
   "source": []
  }
 ],
 "metadata": {
  "kernelspec": {
   "display_name": "Python 3 (ipykernel)",
   "language": "python",
   "name": "python3"
  },
  "language_info": {
   "codemirror_mode": {
    "name": "ipython",
    "version": 3
   },
   "file_extension": ".py",
   "mimetype": "text/x-python",
   "name": "python",
   "nbconvert_exporter": "python",
   "pygments_lexer": "ipython3",
   "version": "3.11.7"
  }
 },
 "nbformat": 4,
 "nbformat_minor": 5
}
