{
 "cells": [
  {
   "cell_type": "code",
   "execution_count": 4,
   "id": "59ebce53-082e-4d18-bf9c-edbe0acb6eaa",
   "metadata": {},
   "outputs": [],
   "source": [
    "import pandas as pd\n",
    "import numpy as np\n",
    "import matplotlib.pyplot as plt\n",
    "import seaborn as sns"
   ]
  },
  {
   "cell_type": "code",
   "execution_count": 6,
   "id": "5384f2cd-8459-4498-873a-2396d7789cec",
   "metadata": {},
   "outputs": [],
   "source": [
    "# Read the data. Visadataset.csv file has 12 cols\n",
    "\n",
    "path=r\"C:\\Users\\User\\OneDrive\\Desktop\\Omkar sir\\DATA files\\Visadataset.csv\""
   ]
  },
  {
   "cell_type": "code",
   "execution_count": 8,
   "id": "a873e7ad-8214-493a-a5d0-9fb5abc45982",
   "metadata": {},
   "outputs": [
    {
     "data": {
      "text/html": [
       "<div>\n",
       "<style scoped>\n",
       "    .dataframe tbody tr th:only-of-type {\n",
       "        vertical-align: middle;\n",
       "    }\n",
       "\n",
       "    .dataframe tbody tr th {\n",
       "        vertical-align: top;\n",
       "    }\n",
       "\n",
       "    .dataframe thead th {\n",
       "        text-align: right;\n",
       "    }\n",
       "</style>\n",
       "<table border=\"1\" class=\"dataframe\">\n",
       "  <thead>\n",
       "    <tr style=\"text-align: right;\">\n",
       "      <th></th>\n",
       "      <th>case_id</th>\n",
       "      <th>continent</th>\n",
       "      <th>education_of_employee</th>\n",
       "      <th>has_job_experience</th>\n",
       "      <th>requires_job_training</th>\n",
       "      <th>no_of_employees</th>\n",
       "      <th>yr_of_estab</th>\n",
       "      <th>region_of_employment</th>\n",
       "      <th>prevailing_wage</th>\n",
       "      <th>unit_of_wage</th>\n",
       "      <th>full_time_position</th>\n",
       "      <th>case_status</th>\n",
       "    </tr>\n",
       "  </thead>\n",
       "  <tbody>\n",
       "    <tr>\n",
       "      <th>0</th>\n",
       "      <td>EZYV01</td>\n",
       "      <td>Asia</td>\n",
       "      <td>High School</td>\n",
       "      <td>N</td>\n",
       "      <td>N</td>\n",
       "      <td>14513</td>\n",
       "      <td>2007</td>\n",
       "      <td>West</td>\n",
       "      <td>592.2029</td>\n",
       "      <td>Hour</td>\n",
       "      <td>Y</td>\n",
       "      <td>Denied</td>\n",
       "    </tr>\n",
       "    <tr>\n",
       "      <th>1</th>\n",
       "      <td>EZYV02</td>\n",
       "      <td>Asia</td>\n",
       "      <td>Master's</td>\n",
       "      <td>Y</td>\n",
       "      <td>N</td>\n",
       "      <td>2412</td>\n",
       "      <td>2002</td>\n",
       "      <td>Northeast</td>\n",
       "      <td>83425.6500</td>\n",
       "      <td>Year</td>\n",
       "      <td>Y</td>\n",
       "      <td>Certified</td>\n",
       "    </tr>\n",
       "    <tr>\n",
       "      <th>2</th>\n",
       "      <td>EZYV03</td>\n",
       "      <td>Asia</td>\n",
       "      <td>Bachelor's</td>\n",
       "      <td>N</td>\n",
       "      <td>Y</td>\n",
       "      <td>44444</td>\n",
       "      <td>2008</td>\n",
       "      <td>West</td>\n",
       "      <td>122996.8600</td>\n",
       "      <td>Year</td>\n",
       "      <td>Y</td>\n",
       "      <td>Denied</td>\n",
       "    </tr>\n",
       "    <tr>\n",
       "      <th>3</th>\n",
       "      <td>EZYV04</td>\n",
       "      <td>Asia</td>\n",
       "      <td>Bachelor's</td>\n",
       "      <td>N</td>\n",
       "      <td>N</td>\n",
       "      <td>98</td>\n",
       "      <td>1897</td>\n",
       "      <td>West</td>\n",
       "      <td>83434.0300</td>\n",
       "      <td>Year</td>\n",
       "      <td>Y</td>\n",
       "      <td>Denied</td>\n",
       "    </tr>\n",
       "    <tr>\n",
       "      <th>4</th>\n",
       "      <td>EZYV05</td>\n",
       "      <td>Africa</td>\n",
       "      <td>Master's</td>\n",
       "      <td>Y</td>\n",
       "      <td>N</td>\n",
       "      <td>1082</td>\n",
       "      <td>2005</td>\n",
       "      <td>South</td>\n",
       "      <td>149907.3900</td>\n",
       "      <td>Year</td>\n",
       "      <td>Y</td>\n",
       "      <td>Certified</td>\n",
       "    </tr>\n",
       "  </tbody>\n",
       "</table>\n",
       "</div>"
      ],
      "text/plain": [
       "  case_id continent education_of_employee has_job_experience  \\\n",
       "0  EZYV01      Asia           High School                  N   \n",
       "1  EZYV02      Asia              Master's                  Y   \n",
       "2  EZYV03      Asia            Bachelor's                  N   \n",
       "3  EZYV04      Asia            Bachelor's                  N   \n",
       "4  EZYV05    Africa              Master's                  Y   \n",
       "\n",
       "  requires_job_training  no_of_employees  yr_of_estab region_of_employment  \\\n",
       "0                     N            14513         2007                 West   \n",
       "1                     N             2412         2002            Northeast   \n",
       "2                     Y            44444         2008                 West   \n",
       "3                     N               98         1897                 West   \n",
       "4                     N             1082         2005                South   \n",
       "\n",
       "   prevailing_wage unit_of_wage full_time_position case_status  \n",
       "0         592.2029         Hour                  Y      Denied  \n",
       "1       83425.6500         Year                  Y   Certified  \n",
       "2      122996.8600         Year                  Y      Denied  \n",
       "3       83434.0300         Year                  Y      Denied  \n",
       "4      149907.3900         Year                  Y   Certified  "
      ]
     },
     "execution_count": 8,
     "metadata": {},
     "output_type": "execute_result"
    }
   ],
   "source": [
    "visa_df=pd.read_csv(r\"C:\\Users\\User\\OneDrive\\Desktop\\Omkar sir\\DATA files\\Visadataset.csv\")\n",
    "visa_df.head()\n"
   ]
  },
  {
   "cell_type": "code",
   "execution_count": 18,
   "id": "cda43b04-e100-47d6-9c53-413432931f82",
   "metadata": {},
   "outputs": [
    {
     "data": {
      "text/plain": [
       "case_id                      EZYV01\n",
       "continent                    Africa\n",
       "education_of_employee    Bachelor's\n",
       "has_job_experience                N\n",
       "requires_job_training             N\n",
       "no_of_employees                 -26\n",
       "yr_of_estab                    1800\n",
       "region_of_employment         Island\n",
       "prevailing_wage              2.1367\n",
       "unit_of_wage                   Hour\n",
       "full_time_position                N\n",
       "case_status               Certified\n",
       "dtype: object"
      ]
     },
     "execution_count": 18,
     "metadata": {},
     "output_type": "execute_result"
    }
   ],
   "source": [
    "visa_df.min()"
   ]
  },
  {
   "cell_type": "code",
   "execution_count": 20,
   "id": "7e62442e-a7a8-470f-b833-2f096367a64b",
   "metadata": {},
   "outputs": [
    {
     "data": {
      "text/plain": [
       "case_id                       EZYV9999\n",
       "continent                South America\n",
       "education_of_employee         Master's\n",
       "has_job_experience                   Y\n",
       "requires_job_training                Y\n",
       "no_of_employees                 602069\n",
       "yr_of_estab                       2016\n",
       "region_of_employment              West\n",
       "prevailing_wage              319210.27\n",
       "unit_of_wage                      Year\n",
       "full_time_position                   Y\n",
       "case_status                     Denied\n",
       "dtype: object"
      ]
     },
     "execution_count": 20,
     "metadata": {},
     "output_type": "execute_result"
    }
   ],
   "source": [
    "visa_df.max()"
   ]
  },
  {
   "cell_type": "code",
   "execution_count": 10,
   "id": "3ed1300c-ce81-4b8e-bb34-8fca8a043b26",
   "metadata": {},
   "outputs": [
    {
     "data": {
      "text/plain": [
       "Index(['no_of_employees', 'yr_of_estab', 'prevailing_wage'], dtype='object')"
      ]
     },
     "execution_count": 10,
     "metadata": {},
     "output_type": "execute_result"
    }
   ],
   "source": [
    "cat_columns=visa_df.select_dtypes(include='object').columns\n",
    "num_columns=visa_df.select_dtypes(exclude='object').columns\n",
    "\n",
    "num_columns"
   ]
  },
  {
   "cell_type": "markdown",
   "id": "219cf409-e73e-44d2-9952-7f5959b13d8e",
   "metadata": {},
   "source": [
    "**Describe**"
   ]
  },
  {
   "cell_type": "code",
   "execution_count": 12,
   "id": "55d9b427-3de8-43d9-9103-b6060f046242",
   "metadata": {},
   "outputs": [
    {
     "data": {
      "text/html": [
       "<div>\n",
       "<style scoped>\n",
       "    .dataframe tbody tr th:only-of-type {\n",
       "        vertical-align: middle;\n",
       "    }\n",
       "\n",
       "    .dataframe tbody tr th {\n",
       "        vertical-align: top;\n",
       "    }\n",
       "\n",
       "    .dataframe thead th {\n",
       "        text-align: right;\n",
       "    }\n",
       "</style>\n",
       "<table border=\"1\" class=\"dataframe\">\n",
       "  <thead>\n",
       "    <tr style=\"text-align: right;\">\n",
       "      <th></th>\n",
       "      <th>no_of_employees</th>\n",
       "      <th>yr_of_estab</th>\n",
       "      <th>prevailing_wage</th>\n",
       "    </tr>\n",
       "  </thead>\n",
       "  <tbody>\n",
       "    <tr>\n",
       "      <th>count</th>\n",
       "      <td>25480.000000</td>\n",
       "      <td>25480.000000</td>\n",
       "      <td>25480.000000</td>\n",
       "    </tr>\n",
       "    <tr>\n",
       "      <th>mean</th>\n",
       "      <td>5667.043210</td>\n",
       "      <td>1979.409929</td>\n",
       "      <td>74455.814592</td>\n",
       "    </tr>\n",
       "    <tr>\n",
       "      <th>std</th>\n",
       "      <td>22877.928848</td>\n",
       "      <td>42.366929</td>\n",
       "      <td>52815.942327</td>\n",
       "    </tr>\n",
       "    <tr>\n",
       "      <th>min</th>\n",
       "      <td>-26.000000</td>\n",
       "      <td>1800.000000</td>\n",
       "      <td>2.136700</td>\n",
       "    </tr>\n",
       "    <tr>\n",
       "      <th>25%</th>\n",
       "      <td>1022.000000</td>\n",
       "      <td>1976.000000</td>\n",
       "      <td>34015.480000</td>\n",
       "    </tr>\n",
       "    <tr>\n",
       "      <th>50%</th>\n",
       "      <td>2109.000000</td>\n",
       "      <td>1997.000000</td>\n",
       "      <td>70308.210000</td>\n",
       "    </tr>\n",
       "    <tr>\n",
       "      <th>75%</th>\n",
       "      <td>3504.000000</td>\n",
       "      <td>2005.000000</td>\n",
       "      <td>107735.512500</td>\n",
       "    </tr>\n",
       "    <tr>\n",
       "      <th>max</th>\n",
       "      <td>602069.000000</td>\n",
       "      <td>2016.000000</td>\n",
       "      <td>319210.270000</td>\n",
       "    </tr>\n",
       "  </tbody>\n",
       "</table>\n",
       "</div>"
      ],
      "text/plain": [
       "       no_of_employees   yr_of_estab  prevailing_wage\n",
       "count     25480.000000  25480.000000     25480.000000\n",
       "mean       5667.043210   1979.409929     74455.814592\n",
       "std       22877.928848     42.366929     52815.942327\n",
       "min         -26.000000   1800.000000         2.136700\n",
       "25%        1022.000000   1976.000000     34015.480000\n",
       "50%        2109.000000   1997.000000     70308.210000\n",
       "75%        3504.000000   2005.000000    107735.512500\n",
       "max      602069.000000   2016.000000    319210.270000"
      ]
     },
     "execution_count": 12,
     "metadata": {},
     "output_type": "execute_result"
    }
   ],
   "source": [
    "\n",
    "visa_df.describe()\n"
   ]
  },
  {
   "cell_type": "code",
   "execution_count": 24,
   "id": "bb1c6449-e46b-40b0-a80a-a35fe3e3ea08",
   "metadata": {},
   "outputs": [
    {
     "data": {
      "text/plain": [
       "(array([3863., 2175., 2676., 2828., 2889., 2792., 2485., 2066., 1452.,\n",
       "         882.,  408.,  216.,  206.,  167.,  129.,  111.,   66.,   48.,\n",
       "          10.,   11.]),\n",
       " array([2.13670000e+00, 1.59625434e+04, 3.19229500e+04, 4.78833567e+04,\n",
       "        6.38437634e+04, 7.98041700e+04, 9.57645767e+04, 1.11724983e+05,\n",
       "        1.27685390e+05, 1.43645797e+05, 1.59606203e+05, 1.75566610e+05,\n",
       "        1.91527017e+05, 2.07487423e+05, 2.23447830e+05, 2.39408237e+05,\n",
       "        2.55368643e+05, 2.71329050e+05, 2.87289457e+05, 3.03249863e+05,\n",
       "        3.19210270e+05]),\n",
       " <BarContainer object of 20 artists>)"
      ]
     },
     "execution_count": 24,
     "metadata": {},
     "output_type": "execute_result"
    },
    {
     "data": {
      "image/png": "[encoded data removed]",
      "text/plain": [
       "<Figure size 640x480 with 1 Axes>"
      ]
     },
     "metadata": {},
     "output_type": "display_data"
    }
   ],
   "source": [
    "wage_data=visa_df['prevailing_wage']\n",
    "\n",
    "plt.hist(wage_data,bins=20)              # bins= cols in the histogram\n"
   ]
  },
  {
   "cell_type": "code",
   "execution_count": null,
   "id": "ca9b75a5-1380-4a9d-a096-d5dba7380ef1",
   "metadata": {},
   "outputs": [],
   "source": [
    "from the 2 output arrrays above we can say that:\n",
    "\n",
    "3863 observation (y-axis) are available between 2.136 to 15962.543 (x-axis)\n",
    "\n",
    "silmilarly 2175 observations are avialble between (15962.5434, 31922.95)\n",
    "\n",
    "1st array has 20 values (top of each bin value)\n",
    "\n",
    "2nd array has 21 values (range of each bin from left to right)"
   ]
  },
  {
   "cell_type": "markdown",
   "id": "1a6847af-df2a-46ef-ba5e-4a2bb3d2ee4f",
   "metadata": {},
   "source": [
    "**Histogram**\n",
    "\n",
    "- By applying Empirical rule we observed slight deviation in the count of data\n",
    "- Also Mean is slightly deviated from Median\n",
    "- This gives an indication the data does not follows Normal distribution\n",
    "- To understand more clearly will visulaize the data\n",
    "- Its is Numerical data,so The plot name is: Histogram\n",
    "- Histogram is a graph between Class intervals and Class Interval frequeny\n",
    "- The plot is avialable in matplotlib\n",
    "- The method name is hist"
   ]
  },
  {
   "cell_type": "code",
   "execution_count": null,
   "id": "10971f48-18b5-4edb-afbd-c459dbbbda1b",
   "metadata": {},
   "outputs": [],
   "source": [
    "\n",
    "The output of the previous code gives 2 arrays and 1 object (ignore).\n",
    "These 2 arrays are plotted as a histogram to depict the data pictorally.\n",
    "\n",
    "3863 observation (y-axis) are available between 2.136 to 15962.543 (x-axis)\n",
    "silmilarly 2175 observations are avialble between (15962.5434, 31922.95)\n"
   ]
  },
  {
   "cell_type": "code",
   "execution_count": null,
   "id": "45ed24df-1d51-46a8-91be-298c1f064d62",
   "metadata": {},
   "outputs": [],
   "source": [
    "Histogram will return 3 values:\n",
    "Interval, count, array\n",
    "\n",
    "1. we have 20 intervals , so we have 20 interval counts\n",
    "\n",
    "2. bins:\n",
    "- bins means number of intervals\n",
    "- we have 20 intervals so we need 21 values\n",
    "- will display how many intervals are avialable\n",
    "- For example in the bins array the first two, forms one interval                  # see cell 16 output\n",
    "- 2.136 to 15962.543 the count is 3863\n",
    "- 3863 observation are available between 2.136 to 15962.543\n",
    "- silmilarly 2175 observations are avialble between (15962.5434, 31922.95)"
   ]
  },
  {
   "cell_type": "code",
   "execution_count": 18,
   "id": "fba84f3b-57f5-460a-a396-7fa6f0d22020",
   "metadata": {},
   "outputs": [
    {
     "data": {
      "text/plain": [
       "15962.5434"
      ]
     },
     "execution_count": 18,
     "metadata": {},
     "output_type": "execute_result"
    }
   ],
   "source": [
    "1.59625434e+04"
   ]
  },
  {
   "cell_type": "code",
   "execution_count": 20,
   "id": "27c519db-03f9-40b3-b706-888075b402e7",
   "metadata": {},
   "outputs": [
    {
     "data": {
      "text/plain": [
       "(15962.5434, 31922.95)"
      ]
     },
     "execution_count": 20,
     "metadata": {},
     "output_type": "execute_result"
    }
   ],
   "source": [
    "1.59625434e+04, 3.19229500e+04,"
   ]
  },
  {
   "cell_type": "code",
   "execution_count": 52,
   "id": "cca5ceb8-c6f6-4edb-89e0-6d7b4e5d8d23",
   "metadata": {},
   "outputs": [
    {
     "name": "stdout",
     "output_type": "stream",
     "text": [
      "20\n",
      "21\n",
      "<BarContainer object of 20 artists>\n",
      "\n",
      "\n"
     ]
    },
    {
     "data": {
      "image/png": "[encoded data removed]",
      "text/plain": [
       "<Figure size 640x480 with 1 Axes>"
      ]
     },
     "metadata": {},
     "output_type": "display_data"
    }
   ],
   "source": [
    "# Histogram on numerical col 'prevailing wage'\n",
    "\n",
    "wage_data=visa_df['prevailing_wage']\n",
    "\n",
    "count,bins,x=plt.hist(wage_data,bins=20)              # bins= cols in the histogram\n",
    "\n",
    "\n",
    "print(len(count))                                     # count is number of bins which is equal to 20\n",
    "\n",
    "print(len(bins))                                       # see 2nd array 'output of cell 16' = 21\n",
    "\n",
    "print(x)                                             # x= <BarContainer object of 20 artists>\n",
    "print('\\n')\n"
   ]
  },
  {
   "cell_type": "markdown",
   "id": "177ece95-59a4-4c43-aab9-71d6e13848dd",
   "metadata": {},
   "source": [
    "\n",
    "**Verify below two statements:**\n",
    "\n",
    "- 3863 observation (y-axis) are available between 2.136 to 15962.543 (x-axis)\n",
    "- silmilarly 2175 observations are avialble between (15962.5434, 31922.95)\n"
   ]
  },
  {
   "cell_type": "code",
   "execution_count": 32,
   "id": "ab9cea07-eb84-48f2-adf6-8d6459b6e2dd",
   "metadata": {},
   "outputs": [
    {
     "name": "stdout",
     "output_type": "stream",
     "text": [
      "3863\n"
     ]
    }
   ],
   "source": [
    "# histogram analysis of 1st bin:\n",
    "\n",
    "lb = 2.13670000e+00                                   # first value in array output ,cell 30 output; or =2.1367\n",
    "\n",
    "ub = 1.59625434e+04                                      # 2nd value in array output, cell 30 output ie = 15962.5434\n",
    "\n",
    "\n",
    "con1=visa_df['prevailing_wage'] >= lb\n",
    "\n",
    "con2=visa_df['prevailing_wage'] <= ub\n",
    "\n",
    "\n",
    "con3= con1 & con2                                      # total number of values betwen these 1st and 2nd bounds            \n",
    "\n",
    "print(len(visa_df[con3]))                              # 3863 ppl have prevailing wage in the range 2.13670000e+00 to 1.59625434e+04 \n"
   ]
  },
  {
   "cell_type": "code",
   "execution_count": 34,
   "id": "7a39a5ea-6f33-4bce-815f-2cf3cd8c3ffa",
   "metadata": {},
   "outputs": [
    {
     "name": "stdout",
     "output_type": "stream",
     "text": [
      "2175\n"
     ]
    }
   ],
   "source": [
    "# histogram analysis of 2nd bin:\n",
    "\n",
    "lb = 1.59625434e+04                                            # 2nd value in array output ,cell 30 output\n",
    "\n",
    "ub = 3.19229500e+04                                            # 3rd value in array output ,cell 30 output\n",
    "\n",
    "con1=visa_df['prevailing_wage'] >= lb\n",
    "\n",
    "con2=visa_df['prevailing_wage'] <= ub \n",
    "\n",
    "\n",
    "con3= con1 & con2                                                # total number of values betwen 2nd and 3rd bound (cell 30 output )                         \n",
    "\n",
    "print(len(visa_df[con3]))\n"
   ]
  },
  {
   "cell_type": "code",
   "execution_count": 42,
   "id": "a6f975a8-2a00-482e-8ac8-0facd509b315",
   "metadata": {},
   "outputs": [
    {
     "data": {
      "text/plain": [
       "array([3863., 2175., 2676., 2828., 2889., 2792., 2485., 2066., 1452.,\n",
       "        882.,  408.,  216.,  206.,  167.,  129.,  111.,   66.,   48.,\n",
       "         10.,   11.])"
      ]
     },
     "execution_count": 42,
     "metadata": {},
     "output_type": "execute_result"
    }
   ],
   "source": [
    "# same as array output 1 ,cell 30 output\n",
    "\n",
    "count                                                 # directly gives the values between each vaue of array output 2 "
   ]
  },
  {
   "cell_type": "code",
   "execution_count": 40,
   "id": "8957c078-bdff-4559-b996-d94a071a6285",
   "metadata": {},
   "outputs": [
    {
     "data": {
      "text/plain": [
       "array([2.13670000e+00, 1.59625434e+04, 3.19229500e+04, 4.78833567e+04,\n",
       "       6.38437634e+04, 7.98041700e+04, 9.57645767e+04, 1.11724983e+05,\n",
       "       1.27685390e+05, 1.43645797e+05, 1.59606203e+05, 1.75566610e+05,\n",
       "       1.91527017e+05, 2.07487423e+05, 2.23447830e+05, 2.39408237e+05,\n",
       "       2.55368643e+05, 2.71329050e+05, 2.87289457e+05, 3.03249863e+05,\n",
       "       3.19210270e+05])"
      ]
     },
     "execution_count": 40,
     "metadata": {},
     "output_type": "execute_result"
    }
   ],
   "source": [
    "# same as array output 2 ,cell 30 output\n",
    "\n",
    "bins                                                    "
   ]
  },
  {
   "cell_type": "code",
   "execution_count": null,
   "id": "08b095f9-cbe6-4378-aee9-000204bab57d",
   "metadata": {},
   "outputs": [],
   "source": []
  },
  {
   "cell_type": "code",
   "execution_count": null,
   "id": "bf2340b3-29ba-47ef-8f80-c7ca07b75879",
   "metadata": {},
   "outputs": [],
   "source": []
  }
 ],
 "metadata": {
  "kernelspec": {
   "display_name": "Python 3 (ipykernel)",
   "language": "python",
   "name": "python3"
  },
  "language_info": {
   "codemirror_mode": {
    "name": "ipython",
    "version": 3
   },
   "file_extension": ".py",
   "mimetype": "text/x-python",
   "name": "python",
   "nbconvert_exporter": "python",
   "pygments_lexer": "ipython3",
   "version": "3.11.7"
  }
 },
 "nbformat": 4,
 "nbformat_minor": 5
}
