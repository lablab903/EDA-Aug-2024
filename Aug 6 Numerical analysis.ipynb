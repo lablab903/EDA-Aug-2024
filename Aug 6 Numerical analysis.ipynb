{
 "cells": [
  {
   "cell_type": "markdown",
   "id": "7725692e-e997-46fd-b254-72c735abeebb",
   "metadata": {},
   "source": [
    "**IMPORT PACKAGES**"
   ]
  },
  {
   "cell_type": "code",
   "execution_count": 5,
   "id": "88a1aa9d-f3f1-4daa-ad21-f33f6212c9a3",
   "metadata": {},
   "outputs": [],
   "source": [
    "\n",
    "import pandas as pd\n",
    "import numpy as np\n",
    "import matplotlib.pyplot as plt\n",
    "import seaborn as sns\n"
   ]
  },
  {
   "cell_type": "code",
   "execution_count": 6,
   "id": "79a49a5f-8c7a-41ff-8fd8-222fccfc6c36",
   "metadata": {},
   "outputs": [],
   "source": [
    "\n",
    "# Read the data. Visadataset.csv file has 12 cols\n",
    "\n",
    "path=r\"C:\\Users\\User\\OneDrive\\Desktop\\Omkar sir\\DATA files\\Visadataset.csv\"\n"
   ]
  },
  {
   "cell_type": "code",
   "execution_count": 11,
   "id": "00b7e15e-4c3a-4787-9926-de678e3f137b",
   "metadata": {},
   "outputs": [
    {
     "data": {
      "text/html": [
       "<div>\n",
       "<style scoped>\n",
       "    .dataframe tbody tr th:only-of-type {\n",
       "        vertical-align: middle;\n",
       "    }\n",
       "\n",
       "    .dataframe tbody tr th {\n",
       "        vertical-align: top;\n",
       "    }\n",
       "\n",
       "    .dataframe thead th {\n",
       "        text-align: right;\n",
       "    }\n",
       "</style>\n",
       "<table border=\"1\" class=\"dataframe\">\n",
       "  <thead>\n",
       "    <tr style=\"text-align: right;\">\n",
       "      <th></th>\n",
       "      <th>case_id</th>\n",
       "      <th>continent</th>\n",
       "      <th>education_of_employee</th>\n",
       "      <th>has_job_experience</th>\n",
       "      <th>requires_job_training</th>\n",
       "      <th>no_of_employees</th>\n",
       "      <th>yr_of_estab</th>\n",
       "      <th>region_of_employment</th>\n",
       "      <th>prevailing_wage</th>\n",
       "      <th>unit_of_wage</th>\n",
       "      <th>full_time_position</th>\n",
       "      <th>case_status</th>\n",
       "    </tr>\n",
       "  </thead>\n",
       "  <tbody>\n",
       "    <tr>\n",
       "      <th>0</th>\n",
       "      <td>EZYV01</td>\n",
       "      <td>Asia</td>\n",
       "      <td>High School</td>\n",
       "      <td>N</td>\n",
       "      <td>N</td>\n",
       "      <td>14513</td>\n",
       "      <td>2007</td>\n",
       "      <td>West</td>\n",
       "      <td>592.2029</td>\n",
       "      <td>Hour</td>\n",
       "      <td>Y</td>\n",
       "      <td>Denied</td>\n",
       "    </tr>\n",
       "    <tr>\n",
       "      <th>1</th>\n",
       "      <td>EZYV02</td>\n",
       "      <td>Asia</td>\n",
       "      <td>Master's</td>\n",
       "      <td>Y</td>\n",
       "      <td>N</td>\n",
       "      <td>2412</td>\n",
       "      <td>2002</td>\n",
       "      <td>Northeast</td>\n",
       "      <td>83425.6500</td>\n",
       "      <td>Year</td>\n",
       "      <td>Y</td>\n",
       "      <td>Certified</td>\n",
       "    </tr>\n",
       "    <tr>\n",
       "      <th>2</th>\n",
       "      <td>EZYV03</td>\n",
       "      <td>Asia</td>\n",
       "      <td>Bachelor's</td>\n",
       "      <td>N</td>\n",
       "      <td>Y</td>\n",
       "      <td>44444</td>\n",
       "      <td>2008</td>\n",
       "      <td>West</td>\n",
       "      <td>122996.8600</td>\n",
       "      <td>Year</td>\n",
       "      <td>Y</td>\n",
       "      <td>Denied</td>\n",
       "    </tr>\n",
       "    <tr>\n",
       "      <th>3</th>\n",
       "      <td>EZYV04</td>\n",
       "      <td>Asia</td>\n",
       "      <td>Bachelor's</td>\n",
       "      <td>N</td>\n",
       "      <td>N</td>\n",
       "      <td>98</td>\n",
       "      <td>1897</td>\n",
       "      <td>West</td>\n",
       "      <td>83434.0300</td>\n",
       "      <td>Year</td>\n",
       "      <td>Y</td>\n",
       "      <td>Denied</td>\n",
       "    </tr>\n",
       "    <tr>\n",
       "      <th>4</th>\n",
       "      <td>EZYV05</td>\n",
       "      <td>Africa</td>\n",
       "      <td>Master's</td>\n",
       "      <td>Y</td>\n",
       "      <td>N</td>\n",
       "      <td>1082</td>\n",
       "      <td>2005</td>\n",
       "      <td>South</td>\n",
       "      <td>149907.3900</td>\n",
       "      <td>Year</td>\n",
       "      <td>Y</td>\n",
       "      <td>Certified</td>\n",
       "    </tr>\n",
       "  </tbody>\n",
       "</table>\n",
       "</div>"
      ],
      "text/plain": [
       "  case_id continent education_of_employee has_job_experience  \\\n",
       "0  EZYV01      Asia           High School                  N   \n",
       "1  EZYV02      Asia              Master's                  Y   \n",
       "2  EZYV03      Asia            Bachelor's                  N   \n",
       "3  EZYV04      Asia            Bachelor's                  N   \n",
       "4  EZYV05    Africa              Master's                  Y   \n",
       "\n",
       "  requires_job_training  no_of_employees  yr_of_estab region_of_employment  \\\n",
       "0                     N            14513         2007                 West   \n",
       "1                     N             2412         2002            Northeast   \n",
       "2                     Y            44444         2008                 West   \n",
       "3                     N               98         1897                 West   \n",
       "4                     N             1082         2005                South   \n",
       "\n",
       "   prevailing_wage unit_of_wage full_time_position case_status  \n",
       "0         592.2029         Hour                  Y      Denied  \n",
       "1       83425.6500         Year                  Y   Certified  \n",
       "2      122996.8600         Year                  Y      Denied  \n",
       "3       83434.0300         Year                  Y      Denied  \n",
       "4      149907.3900         Year                  Y   Certified  "
      ]
     },
     "execution_count": 11,
     "metadata": {},
     "output_type": "execute_result"
    }
   ],
   "source": [
    "\n",
    "visa_df=pd.read_csv(r\"C:\\Users\\User\\OneDrive\\Desktop\\Omkar sir\\DATA files\\Visadataset.csv\")\n",
    "visa_df.head()\n"
   ]
  },
  {
   "cell_type": "code",
   "execution_count": 13,
   "id": "fe54a0eb-8d08-42a0-80a1-f620e9f1e614",
   "metadata": {},
   "outputs": [
    {
     "data": {
      "text/plain": [
       "Index(['no_of_employees', 'yr_of_estab', 'prevailing_wage'], dtype='object')"
      ]
     },
     "execution_count": 13,
     "metadata": {},
     "output_type": "execute_result"
    }
   ],
   "source": [
    "\n",
    "cat_columns=visa_df.select_dtypes(include='object').columns\n",
    "num_columns=visa_df.select_dtypes(exclude='object').columns\n",
    "\n",
    "num_columns\n"
   ]
  },
  {
   "cell_type": "markdown",
   "id": "bafe561c-e53d-4c1e-8007-3d58049dfc66",
   "metadata": {},
   "source": [
    "**prevailing_wage**"
   ]
  },
  {
   "cell_type": "code",
   "execution_count": 15,
   "id": "4a1b6c32-c29f-4d08-af36-2e3fd822e4be",
   "metadata": {},
   "outputs": [
    {
     "data": {
      "text/plain": [
       "0           592.2029\n",
       "1         83425.6500\n",
       "2        122996.8600\n",
       "3         83434.0300\n",
       "4        149907.3900\n",
       "            ...     \n",
       "25475     77092.5700\n",
       "25476    279174.7900\n",
       "25477    146298.8500\n",
       "25478     86154.7700\n",
       "25479     70876.9100\n",
       "Name: prevailing_wage, Length: 25480, dtype: float64"
      ]
     },
     "execution_count": 15,
     "metadata": {},
     "output_type": "execute_result"
    }
   ],
   "source": [
    "\n",
    "visa_df['prevailing_wage']                                      # series output\n"
   ]
  },
  {
   "cell_type": "code",
   "execution_count": 19,
   "id": "4712b4c4-10eb-400e-a4cc-6514f7e821a8",
   "metadata": {},
   "outputs": [
    {
     "data": {
      "text/html": [
       "<div>\n",
       "<style scoped>\n",
       "    .dataframe tbody tr th:only-of-type {\n",
       "        vertical-align: middle;\n",
       "    }\n",
       "\n",
       "    .dataframe tbody tr th {\n",
       "        vertical-align: top;\n",
       "    }\n",
       "\n",
       "    .dataframe thead th {\n",
       "        text-align: right;\n",
       "    }\n",
       "</style>\n",
       "<table border=\"1\" class=\"dataframe\">\n",
       "  <thead>\n",
       "    <tr style=\"text-align: right;\">\n",
       "      <th></th>\n",
       "      <th>prevailing_wage</th>\n",
       "    </tr>\n",
       "  </thead>\n",
       "  <tbody>\n",
       "    <tr>\n",
       "      <th>0</th>\n",
       "      <td>592.2029</td>\n",
       "    </tr>\n",
       "    <tr>\n",
       "      <th>1</th>\n",
       "      <td>83425.6500</td>\n",
       "    </tr>\n",
       "    <tr>\n",
       "      <th>2</th>\n",
       "      <td>122996.8600</td>\n",
       "    </tr>\n",
       "    <tr>\n",
       "      <th>3</th>\n",
       "      <td>83434.0300</td>\n",
       "    </tr>\n",
       "    <tr>\n",
       "      <th>4</th>\n",
       "      <td>149907.3900</td>\n",
       "    </tr>\n",
       "    <tr>\n",
       "      <th>...</th>\n",
       "      <td>...</td>\n",
       "    </tr>\n",
       "    <tr>\n",
       "      <th>25475</th>\n",
       "      <td>77092.5700</td>\n",
       "    </tr>\n",
       "    <tr>\n",
       "      <th>25476</th>\n",
       "      <td>279174.7900</td>\n",
       "    </tr>\n",
       "    <tr>\n",
       "      <th>25477</th>\n",
       "      <td>146298.8500</td>\n",
       "    </tr>\n",
       "    <tr>\n",
       "      <th>25478</th>\n",
       "      <td>86154.7700</td>\n",
       "    </tr>\n",
       "    <tr>\n",
       "      <th>25479</th>\n",
       "      <td>70876.9100</td>\n",
       "    </tr>\n",
       "  </tbody>\n",
       "</table>\n",
       "<p>25480 rows × 1 columns</p>\n",
       "</div>"
      ],
      "text/plain": [
       "       prevailing_wage\n",
       "0             592.2029\n",
       "1           83425.6500\n",
       "2          122996.8600\n",
       "3           83434.0300\n",
       "4          149907.3900\n",
       "...                ...\n",
       "25475       77092.5700\n",
       "25476      279174.7900\n",
       "25477      146298.8500\n",
       "25478       86154.7700\n",
       "25479       70876.9100\n",
       "\n",
       "[25480 rows x 1 columns]"
      ]
     },
     "execution_count": 19,
     "metadata": {},
     "output_type": "execute_result"
    }
   ],
   "source": [
    "\n",
    "visa_df[['prevailing_wage']]                              # dataframe output\n"
   ]
  },
  {
   "cell_type": "code",
   "execution_count": 17,
   "id": "b85ff770-5612-4387-b705-1d917b29f0e1",
   "metadata": {},
   "outputs": [
    {
     "data": {
      "text/plain": [
       "0           592.2029\n",
       "1         83425.6500\n",
       "2        122996.8600\n",
       "3         83434.0300\n",
       "4        149907.3900\n",
       "            ...     \n",
       "25475     77092.5700\n",
       "25476    279174.7900\n",
       "25477    146298.8500\n",
       "25478     86154.7700\n",
       "25479     70876.9100\n",
       "Name: prevailing_wage, Length: 25480, dtype: float64"
      ]
     },
     "execution_count": 17,
     "metadata": {},
     "output_type": "execute_result"
    }
   ],
   "source": [
    "\n",
    "visa_df.loc[:, 'prevailing_wage']                  # series output for prevailing wage\n"
   ]
  },
  {
   "cell_type": "code",
   "execution_count": null,
   "id": "bc4ffa9c-7eb1-46d4-82dd-07f742af69fb",
   "metadata": {},
   "outputs": [],
   "source": [
    "\n",
    "visa_df.loc[:,'prevailing_wage']\n",
    "visa_df.iloc[:,[8]]\n",
    "visa_df['prevailing_wage']\n",
    "visa_df[['prevailing_wage']]\n"
   ]
  },
  {
   "cell_type": "code",
   "execution_count": 19,
   "id": "01244291-d418-4c4a-8681-9a8fe9df8f97",
   "metadata": {},
   "outputs": [
    {
     "data": {
      "text/html": [
       "<div>\n",
       "<style scoped>\n",
       "    .dataframe tbody tr th:only-of-type {\n",
       "        vertical-align: middle;\n",
       "    }\n",
       "\n",
       "    .dataframe tbody tr th {\n",
       "        vertical-align: top;\n",
       "    }\n",
       "\n",
       "    .dataframe thead th {\n",
       "        text-align: right;\n",
       "    }\n",
       "</style>\n",
       "<table border=\"1\" class=\"dataframe\">\n",
       "  <thead>\n",
       "    <tr style=\"text-align: right;\">\n",
       "      <th></th>\n",
       "      <th>prevailing_wage</th>\n",
       "    </tr>\n",
       "  </thead>\n",
       "  <tbody>\n",
       "    <tr>\n",
       "      <th>0</th>\n",
       "      <td>592.2029</td>\n",
       "    </tr>\n",
       "    <tr>\n",
       "      <th>1</th>\n",
       "      <td>83425.6500</td>\n",
       "    </tr>\n",
       "    <tr>\n",
       "      <th>2</th>\n",
       "      <td>122996.8600</td>\n",
       "    </tr>\n",
       "    <tr>\n",
       "      <th>3</th>\n",
       "      <td>83434.0300</td>\n",
       "    </tr>\n",
       "    <tr>\n",
       "      <th>4</th>\n",
       "      <td>149907.3900</td>\n",
       "    </tr>\n",
       "    <tr>\n",
       "      <th>...</th>\n",
       "      <td>...</td>\n",
       "    </tr>\n",
       "    <tr>\n",
       "      <th>25475</th>\n",
       "      <td>77092.5700</td>\n",
       "    </tr>\n",
       "    <tr>\n",
       "      <th>25476</th>\n",
       "      <td>279174.7900</td>\n",
       "    </tr>\n",
       "    <tr>\n",
       "      <th>25477</th>\n",
       "      <td>146298.8500</td>\n",
       "    </tr>\n",
       "    <tr>\n",
       "      <th>25478</th>\n",
       "      <td>86154.7700</td>\n",
       "    </tr>\n",
       "    <tr>\n",
       "      <th>25479</th>\n",
       "      <td>70876.9100</td>\n",
       "    </tr>\n",
       "  </tbody>\n",
       "</table>\n",
       "<p>25480 rows × 1 columns</p>\n",
       "</div>"
      ],
      "text/plain": [
       "       prevailing_wage\n",
       "0             592.2029\n",
       "1           83425.6500\n",
       "2          122996.8600\n",
       "3           83434.0300\n",
       "4          149907.3900\n",
       "...                ...\n",
       "25475       77092.5700\n",
       "25476      279174.7900\n",
       "25477      146298.8500\n",
       "25478       86154.7700\n",
       "25479       70876.9100\n",
       "\n",
       "[25480 rows x 1 columns]"
      ]
     },
     "execution_count": 19,
     "metadata": {},
     "output_type": "execute_result"
    }
   ],
   "source": [
    "\n",
    "visa_df.iloc[:,[8]]                           # iloc[rows:cols] where rows, cols has start:stop:step\n"
   ]
  },
  {
   "cell_type": "code",
   "execution_count": 21,
   "id": "b0ac4509-721d-49bc-8a00-9fad9d6b947c",
   "metadata": {},
   "outputs": [
    {
     "data": {
      "text/plain": [
       "0           592.2029\n",
       "1         83425.6500\n",
       "2        122996.8600\n",
       "3         83434.0300\n",
       "4        149907.3900\n",
       "            ...     \n",
       "25475     77092.5700\n",
       "25476    279174.7900\n",
       "25477    146298.8500\n",
       "25478     86154.7700\n",
       "25479     70876.9100\n",
       "Name: prevailing_wage, Length: 25480, dtype: float64"
      ]
     },
     "execution_count": 21,
     "metadata": {},
     "output_type": "execute_result"
    }
   ],
   "source": [
    "visa_df['prevailing_wage']"
   ]
  },
  {
   "cell_type": "code",
   "execution_count": 23,
   "id": "d05eff20-5e08-444a-a929-eee34eed8a7c",
   "metadata": {},
   "outputs": [
    {
     "data": {
      "text/html": [
       "<div>\n",
       "<style scoped>\n",
       "    .dataframe tbody tr th:only-of-type {\n",
       "        vertical-align: middle;\n",
       "    }\n",
       "\n",
       "    .dataframe tbody tr th {\n",
       "        vertical-align: top;\n",
       "    }\n",
       "\n",
       "    .dataframe thead th {\n",
       "        text-align: right;\n",
       "    }\n",
       "</style>\n",
       "<table border=\"1\" class=\"dataframe\">\n",
       "  <thead>\n",
       "    <tr style=\"text-align: right;\">\n",
       "      <th></th>\n",
       "      <th>prevailing_wage</th>\n",
       "    </tr>\n",
       "  </thead>\n",
       "  <tbody>\n",
       "    <tr>\n",
       "      <th>0</th>\n",
       "      <td>592.2029</td>\n",
       "    </tr>\n",
       "    <tr>\n",
       "      <th>1</th>\n",
       "      <td>83425.6500</td>\n",
       "    </tr>\n",
       "    <tr>\n",
       "      <th>2</th>\n",
       "      <td>122996.8600</td>\n",
       "    </tr>\n",
       "    <tr>\n",
       "      <th>3</th>\n",
       "      <td>83434.0300</td>\n",
       "    </tr>\n",
       "    <tr>\n",
       "      <th>4</th>\n",
       "      <td>149907.3900</td>\n",
       "    </tr>\n",
       "    <tr>\n",
       "      <th>...</th>\n",
       "      <td>...</td>\n",
       "    </tr>\n",
       "    <tr>\n",
       "      <th>25475</th>\n",
       "      <td>77092.5700</td>\n",
       "    </tr>\n",
       "    <tr>\n",
       "      <th>25476</th>\n",
       "      <td>279174.7900</td>\n",
       "    </tr>\n",
       "    <tr>\n",
       "      <th>25477</th>\n",
       "      <td>146298.8500</td>\n",
       "    </tr>\n",
       "    <tr>\n",
       "      <th>25478</th>\n",
       "      <td>86154.7700</td>\n",
       "    </tr>\n",
       "    <tr>\n",
       "      <th>25479</th>\n",
       "      <td>70876.9100</td>\n",
       "    </tr>\n",
       "  </tbody>\n",
       "</table>\n",
       "<p>25480 rows × 1 columns</p>\n",
       "</div>"
      ],
      "text/plain": [
       "       prevailing_wage\n",
       "0             592.2029\n",
       "1           83425.6500\n",
       "2          122996.8600\n",
       "3           83434.0300\n",
       "4          149907.3900\n",
       "...                ...\n",
       "25475       77092.5700\n",
       "25476      279174.7900\n",
       "25477      146298.8500\n",
       "25478       86154.7700\n",
       "25479       70876.9100\n",
       "\n",
       "[25480 rows x 1 columns]"
      ]
     },
     "execution_count": 23,
     "metadata": {},
     "output_type": "execute_result"
    }
   ],
   "source": [
    "visa_df[['prevailing_wage']]"
   ]
  },
  {
   "cell_type": "markdown",
   "id": "fcec5185-e795-4934-8adf-6af4f32cdcb9",
   "metadata": {},
   "source": [
    "\n",
    "- len (same as count)\n",
    "- min\n",
    "- max\n",
    "- average or mean\n",
    "-std deviation\n",
    "- median value\n",
    "- 25p\n",
    "- 50p\n",
    "- 75p\n"
   ]
  },
  {
   "cell_type": "code",
   "execution_count": 35,
   "id": "37550fd5-5c12-48e9-9616-dff41e500814",
   "metadata": {},
   "outputs": [
    {
     "data": {
      "text/plain": [
       "25480"
      ]
     },
     "execution_count": 35,
     "metadata": {},
     "output_type": "execute_result"
    }
   ],
   "source": [
    "\n",
    "len(visa_df['prevailing_wage'])                 # number of wage samples in prevailing_wage col\n"
   ]
  },
  {
   "cell_type": "code",
   "execution_count": 37,
   "id": "f4805467-ddac-43bc-8388-6c0c779d4999",
   "metadata": {},
   "outputs": [
    {
     "data": {
      "text/plain": [
       "2.1367"
      ]
     },
     "execution_count": 37,
     "metadata": {},
     "output_type": "execute_result"
    }
   ],
   "source": [
    "\n",
    "min(visa_df['prevailing_wage'])                  # min of prevailing wage\n"
   ]
  },
  {
   "cell_type": "code",
   "execution_count": 39,
   "id": "56465be0-bfc4-4463-8c45-e1e290f1111f",
   "metadata": {},
   "outputs": [
    {
     "data": {
      "text/plain": [
       "319210.27"
      ]
     },
     "execution_count": 39,
     "metadata": {},
     "output_type": "execute_result"
    }
   ],
   "source": [
    "\n",
    "max(visa_df['prevailing_wage'])                     # max value of prevailing wage\n"
   ]
  },
  {
   "cell_type": "code",
   "execution_count": 43,
   "id": "504a3f1e-a0b0-4384-a95c-815b73088b56",
   "metadata": {},
   "outputs": [
    {
     "data": {
      "text/plain": [
       "25480"
      ]
     },
     "execution_count": 43,
     "metadata": {},
     "output_type": "execute_result"
    }
   ],
   "source": [
    "\n",
    "count=len(visa_df['prevailing_wage'])            \n",
    "count\n"
   ]
  },
  {
   "cell_type": "code",
   "execution_count": 49,
   "id": "0a821020-ec8a-46a4-9415-304ec11e92f0",
   "metadata": {},
   "outputs": [
    {
     "data": {
      "text/plain": [
       "74455.81459209183"
      ]
     },
     "execution_count": 49,
     "metadata": {},
     "output_type": "execute_result"
    }
   ],
   "source": [
    "\n",
    "visa_df['prevailing_wage'].mean()                          # average wage\n"
   ]
  },
  {
   "cell_type": "code",
   "execution_count": 51,
   "id": "a078c7e0-2257-4663-820e-b0e1474bf8d6",
   "metadata": {},
   "outputs": [
    {
     "data": {
      "text/plain": [
       "prevailing_wage    74455.814592\n",
       "dtype: float64"
      ]
     },
     "execution_count": 51,
     "metadata": {},
     "output_type": "execute_result"
    }
   ],
   "source": [
    "\n",
    "visa_df[['prevailing_wage']].mean()                            # average wage\n"
   ]
  },
  {
   "cell_type": "code",
   "execution_count": 53,
   "id": "3adf7849-e6f5-4c33-8ac0-852eadb52ae4",
   "metadata": {},
   "outputs": [
    {
     "data": {
      "text/plain": [
       "70308.20999999999"
      ]
     },
     "execution_count": 53,
     "metadata": {},
     "output_type": "execute_result"
    }
   ],
   "source": [
    "\n",
    "visa_df['prevailing_wage'].median()                             # median wage\n"
   ]
  },
  {
   "cell_type": "code",
   "execution_count": 55,
   "id": "76861051-e3c7-4d06-87d2-f881449bb789",
   "metadata": {},
   "outputs": [
    {
     "data": {
      "text/plain": [
       "prevailing_wage    70308.21\n",
       "dtype: float64"
      ]
     },
     "execution_count": 55,
     "metadata": {},
     "output_type": "execute_result"
    }
   ],
   "source": [
    "\n",
    "visa_df[['prevailing_wage']].median()                             # median wage\n"
   ]
  },
  {
   "cell_type": "code",
   "execution_count": 59,
   "id": "af67ed1c-abd5-4942-8d36-767590a4903e",
   "metadata": {},
   "outputs": [
    {
     "data": {
      "text/plain": [
       "74455.81"
      ]
     },
     "execution_count": 59,
     "metadata": {},
     "output_type": "execute_result"
    }
   ],
   "source": [
    "\n",
    "round(visa_df['prevailing_wage'].mean(),2)                     # average wage\n"
   ]
  },
  {
   "cell_type": "code",
   "execution_count": 61,
   "id": "cd7fb810-9e8f-465a-a9fa-1cd12e688176",
   "metadata": {},
   "outputs": [
    {
     "data": {
      "text/plain": [
       "70308.21"
      ]
     },
     "execution_count": 61,
     "metadata": {},
     "output_type": "execute_result"
    }
   ],
   "source": [
    "\n",
    "round(visa_df['prevailing_wage'].median(),2)                      # median wage\n"
   ]
  },
  {
   "cell_type": "code",
   "execution_count": null,
   "id": "3fb601ef-5d62-4317-a24f-0d4b1d9a3067",
   "metadata": {},
   "outputs": [],
   "source": [
    "\n",
    "mode is not suitable for numercal analysis\n",
    "\n",
    "differenet observations can give same value\n",
    "\n",
    "pandas means dataframe\n"
   ]
  },
  {
   "cell_type": "markdown",
   "id": "4bbe3b96-0174-48f7-b4a9-8c8b433e4470",
   "metadata": {},
   "source": [
    "**Using Numpy**"
   ]
  },
  {
   "cell_type": "code",
   "execution_count": 65,
   "id": "aae777f6-1f0f-4954-b07b-568b2a0427c1",
   "metadata": {},
   "outputs": [
    {
     "data": {
      "text/plain": [
       "74455.81459209183"
      ]
     },
     "execution_count": 65,
     "metadata": {},
     "output_type": "execute_result"
    }
   ],
   "source": [
    "\n",
    "np.mean(visa_df['prevailing_wage'])\n"
   ]
  },
  {
   "cell_type": "code",
   "execution_count": 67,
   "id": "f536a3fe-1bca-4137-8f2d-412cdfb6baa1",
   "metadata": {},
   "outputs": [
    {
     "data": {
      "text/plain": [
       "70308.20999999999"
      ]
     },
     "execution_count": 67,
     "metadata": {},
     "output_type": "execute_result"
    }
   ],
   "source": [
    "\n",
    "np.median(visa_df['prevailing_wage'])\n"
   ]
  },
  {
   "cell_type": "markdown",
   "id": "3d8f657d-4f0d-4cad-8611-edde40fa898a",
   "metadata": {},
   "source": [
    "**Stadard deviation**"
   ]
  },
  {
   "cell_type": "code",
   "execution_count": 72,
   "id": "8c47a97a-c785-48c3-a03d-361d63c98d5f",
   "metadata": {},
   "outputs": [
    {
     "data": {
      "text/plain": [
       "52815.94"
      ]
     },
     "execution_count": 72,
     "metadata": {},
     "output_type": "execute_result"
    }
   ],
   "source": [
    "\n",
    "round(visa_df['prevailing_wage'].std(),2)\n"
   ]
  },
  {
   "cell_type": "code",
   "execution_count": null,
   "id": "18c088e4-3637-4b4e-ab24-6c4c2b7b687a",
   "metadata": {},
   "outputs": [],
   "source": [
    "\n",
    "1) To create a dtatframe of these values:\n",
    "\n",
    "create a empty list,put all values in it\n",
    "\n",
    "2) create aindex list=[count, min,max]\n",
    "\n",
    "3) creata col list:  [pwage]\n"
   ]
  },
  {
   "cell_type": "code",
   "execution_count": 25,
   "id": "9b748ef2-c15f-4de0-b3fd-4691f9c9776d",
   "metadata": {},
   "outputs": [
    {
     "data": {
      "text/plain": [
       "52815.94"
      ]
     },
     "execution_count": 25,
     "metadata": {},
     "output_type": "execute_result"
    }
   ],
   "source": [
    "\n",
    "std_wage=round(visa_df['prevailing_wage'].std(),2)\n",
    "std_wage\n"
   ]
  },
  {
   "cell_type": "code",
   "execution_count": null,
   "id": "e514cc38-a603-41aa-8404-f74977089bf8",
   "metadata": {},
   "outputs": [],
   "source": [
    "\n",
    "#visa_df['prevailing_wage'].mode()                             # mode is not a required thing to calculate\n",
    "\n",
    " # mode is the value that appears most often in a set of data values\n"
   ]
  },
  {
   "cell_type": "code",
   "execution_count": 29,
   "id": "bacac168-1fb7-43e7-984b-15dfaeb83746",
   "metadata": {},
   "outputs": [],
   "source": [
    "\n",
    "\n",
    "count_wage=len(visa_df['prevailing_wage'])\n",
    "min_wage=min(visa_df['prevailing_wage'])\n",
    "max_wage=max(visa_df['prevailing_wage'])\n",
    "mean_wage=round(visa_df['prevailing_wage'].mean(),2)\n",
    "median_wage=round(visa_df['prevailing_wage'].median(),2)\n",
    "std_wage=round(visa_df['prevailing_wage'].std(),2)\n",
    "\n"
   ]
  },
  {
   "cell_type": "code",
   "execution_count": 35,
   "id": "592edda4-306f-4aab-80bb-3282c3a47854",
   "metadata": {},
   "outputs": [
    {
     "data": {
      "text/html": [
       "<div>\n",
       "<style scoped>\n",
       "    .dataframe tbody tr th:only-of-type {\n",
       "        vertical-align: middle;\n",
       "    }\n",
       "\n",
       "    .dataframe tbody tr th {\n",
       "        vertical-align: top;\n",
       "    }\n",
       "\n",
       "    .dataframe thead th {\n",
       "        text-align: right;\n",
       "    }\n",
       "</style>\n",
       "<table border=\"1\" class=\"dataframe\">\n",
       "  <thead>\n",
       "    <tr style=\"text-align: right;\">\n",
       "      <th></th>\n",
       "      <th>prevailing_wage</th>\n",
       "    </tr>\n",
       "  </thead>\n",
       "  <tbody>\n",
       "    <tr>\n",
       "      <th>count</th>\n",
       "      <td>25480.0000</td>\n",
       "    </tr>\n",
       "    <tr>\n",
       "      <th>min</th>\n",
       "      <td>2.1367</td>\n",
       "    </tr>\n",
       "    <tr>\n",
       "      <th>max</th>\n",
       "      <td>319210.2700</td>\n",
       "    </tr>\n",
       "    <tr>\n",
       "      <th>mean</th>\n",
       "      <td>74455.8100</td>\n",
       "    </tr>\n",
       "    <tr>\n",
       "      <th>median</th>\n",
       "      <td>70308.2100</td>\n",
       "    </tr>\n",
       "    <tr>\n",
       "      <th>std</th>\n",
       "      <td>52815.9400</td>\n",
       "    </tr>\n",
       "  </tbody>\n",
       "</table>\n",
       "</div>"
      ],
      "text/plain": [
       "        prevailing_wage\n",
       "count        25480.0000\n",
       "min              2.1367\n",
       "max         319210.2700\n",
       "mean         74455.8100\n",
       "median       70308.2100\n",
       "std          52815.9400"
      ]
     },
     "execution_count": 35,
     "metadata": {},
     "output_type": "execute_result"
    }
   ],
   "source": [
    "\n",
    "\n",
    "# summarizing all statistics terms like mean , median min, max etc from Visadatasetcsvfile into  A PANDAS DATAFRAME\n",
    "\n",
    "# Step-1: Create a  list , keep all the values in a list\n",
    "# Step-2: create a index list= ['Count','min','max']\n",
    "# Step-3: create a cols list = ['pwage']\n",
    "\n",
    "\n",
    "values=[count_wage,min_wage,max_wage,mean_wage,median_wage,std_wage]          # Step-1: Create a  list , keep all the values in a list\n",
    "\n",
    "index=['count','min','max','mean','median','std']                              # Step-2: create a index list= ['Count','min','max'] \n",
    "\n",
    "cols=['prevailing_wage']                                                        # Step-3: create a cols list = ['pwage']\n",
    "\n",
    "wage_df=pd.DataFrame(values,index=index,columns=cols)                    # create a pandas datframe to display count','min','max','mean','median','std'\n",
    "                                                                           # and store it in a variable\n",
    "\n",
    "wage_df                                                                  # display the variable\n"
   ]
  },
  {
   "cell_type": "code",
   "execution_count": 37,
   "id": "30414228-d359-4be3-9f28-7abf12439e9e",
   "metadata": {},
   "outputs": [
    {
     "data": {
      "text/html": [
       "<div>\n",
       "<style scoped>\n",
       "    .dataframe tbody tr th:only-of-type {\n",
       "        vertical-align: middle;\n",
       "    }\n",
       "\n",
       "    .dataframe tbody tr th {\n",
       "        vertical-align: top;\n",
       "    }\n",
       "\n",
       "    .dataframe thead th {\n",
       "        text-align: right;\n",
       "    }\n",
       "</style>\n",
       "<table border=\"1\" class=\"dataframe\">\n",
       "  <thead>\n",
       "    <tr style=\"text-align: right;\">\n",
       "      <th></th>\n",
       "      <th>no_of_employees</th>\n",
       "      <th>yr_of_estab</th>\n",
       "      <th>prevailing_wage</th>\n",
       "    </tr>\n",
       "  </thead>\n",
       "  <tbody>\n",
       "    <tr>\n",
       "      <th>count</th>\n",
       "      <td>25480.000000</td>\n",
       "      <td>25480.000000</td>\n",
       "      <td>25480.000000</td>\n",
       "    </tr>\n",
       "    <tr>\n",
       "      <th>mean</th>\n",
       "      <td>5667.043210</td>\n",
       "      <td>1979.409929</td>\n",
       "      <td>74455.814592</td>\n",
       "    </tr>\n",
       "    <tr>\n",
       "      <th>std</th>\n",
       "      <td>22877.928848</td>\n",
       "      <td>42.366929</td>\n",
       "      <td>52815.942327</td>\n",
       "    </tr>\n",
       "    <tr>\n",
       "      <th>min</th>\n",
       "      <td>-26.000000</td>\n",
       "      <td>1800.000000</td>\n",
       "      <td>2.136700</td>\n",
       "    </tr>\n",
       "    <tr>\n",
       "      <th>25%</th>\n",
       "      <td>1022.000000</td>\n",
       "      <td>1976.000000</td>\n",
       "      <td>34015.480000</td>\n",
       "    </tr>\n",
       "    <tr>\n",
       "      <th>50%</th>\n",
       "      <td>2109.000000</td>\n",
       "      <td>1997.000000</td>\n",
       "      <td>70308.210000</td>\n",
       "    </tr>\n",
       "    <tr>\n",
       "      <th>75%</th>\n",
       "      <td>3504.000000</td>\n",
       "      <td>2005.000000</td>\n",
       "      <td>107735.512500</td>\n",
       "    </tr>\n",
       "    <tr>\n",
       "      <th>max</th>\n",
       "      <td>602069.000000</td>\n",
       "      <td>2016.000000</td>\n",
       "      <td>319210.270000</td>\n",
       "    </tr>\n",
       "  </tbody>\n",
       "</table>\n",
       "</div>"
      ],
      "text/plain": [
       "       no_of_employees   yr_of_estab  prevailing_wage\n",
       "count     25480.000000  25480.000000     25480.000000\n",
       "mean       5667.043210   1979.409929     74455.814592\n",
       "std       22877.928848     42.366929     52815.942327\n",
       "min         -26.000000   1800.000000         2.136700\n",
       "25%        1022.000000   1976.000000     34015.480000\n",
       "50%        2109.000000   1997.000000     70308.210000\n",
       "75%        3504.000000   2005.000000    107735.512500\n",
       "max      602069.000000   2016.000000    319210.270000"
      ]
     },
     "execution_count": 37,
     "metadata": {},
     "output_type": "execute_result"
    }
   ],
   "source": [
    "\n",
    "\n",
    "# USING describe() WILL WORK ON NUMERIC COLS OF THE CSV FILE TO GENERATE THE REQUIRED STASTISTICAL OUTPUT\n",
    "\n",
    "visa_df.describe()                    # this can be dne in a single shot (short-cut method) using describe() method\n"
   ]
  },
  {
   "cell_type": "code",
   "execution_count": 39,
   "id": "90fa5832-f782-4fd5-afe8-5a5974cac4ee",
   "metadata": {},
   "outputs": [
    {
     "data": {
      "text/plain": [
       "continent\n",
       "Asia             16861\n",
       "Europe            3732\n",
       "North America     3292\n",
       "South America      852\n",
       "Africa             551\n",
       "Oceania            192\n",
       "Name: count, dtype: int64"
      ]
     },
     "execution_count": 39,
     "metadata": {},
     "output_type": "execute_result"
    }
   ],
   "source": [
    "\n",
    "\n",
    "# USING VALUE_COUNTS () ON CATEGORICAL COL CONTITNENT TO GENERATE COUNT OUTPUT:\n",
    "\n",
    "visa_df['continent'].value_counts()\n",
    "\n"
   ]
  },
  {
   "cell_type": "markdown",
   "id": "0c9fc510-7127-4d67-9f54-81befa2a8feb",
   "metadata": {},
   "source": [
    "\n",
    "**25p-50p-75p**\n"
   ]
  },
  {
   "cell_type": "markdown",
   "id": "3d67c839-4162-4f31-8a03-8b605f95b8d9",
   "metadata": {},
   "source": [
    "**percentile**\n",
    "\n",
    "- In numpy we have percentile \n",
    "\n",
    "- the method is np.percentile()\n",
    "\n",
    "    - It takes the two arguments\n",
    "\n",
    "    - a : array means data \n",
    "\n",
    "    - q value which percentile data we want , that value we need to provide\n",
    "\n",
    "    - if we want 25p value then q=25\n",
    "\n",
    "**quantile**\n",
    "\n",
    "- In numpy we have quantile method\n",
    "\n",
    "- the method is np.quantile()\n",
    "\n",
    " - It takes the two arguments\n",
    "\n",
    "    - a : array means data \n",
    "\n",
    "    - q value which percentile data we want , that value we need to provide\n",
    "\n",
    "    - if we want 25p value then q=0.25\n",
    "\n",
    "    - if we want 50p value then q=0.50"
   ]
  },
  {
   "cell_type": "code",
   "execution_count": 48,
   "id": "5f7962b7-146b-4c8c-a94e-cc6b1d62f99d",
   "metadata": {},
   "outputs": [
    {
     "data": {
      "text/plain": [
       "42032.848999999995"
      ]
     },
     "execution_count": 48,
     "metadata": {},
     "output_type": "execute_result"
    }
   ],
   "source": [
    "\n",
    "\n",
    "# USING 'NUMPY' ON 'PERCENTILE() METHOD' ON 'PANDAS DATFRAME VISA_DF NUMERICAL' COLUMN 'PREVAILING_WAGE' \n",
    "\n",
    "# VALUE BETWEEN 0 TO 100 FOR PERCENTILE() METHOD\n",
    "\n",
    "np.percentile(visa_df['prevailing_wage'],30)                             # CHOOSE VALUE BETWEEN 0 to 100 FOR PERCENTILE\n",
    "\n"
   ]
  },
  {
   "cell_type": "code",
   "execution_count": 50,
   "id": "af611ddf-bac1-4a3e-9f44-7fb99e9e9498",
   "metadata": {},
   "outputs": [
    {
     "data": {
      "text/plain": [
       "34015.479999999996"
      ]
     },
     "execution_count": 50,
     "metadata": {},
     "output_type": "execute_result"
    }
   ],
   "source": [
    "\n",
    "np.quantile(visa_df['prevailing_wage'],0.25)                     # CHOOSE VALUE BETWEEN 0 to 1 FOR QUANTILE\n"
   ]
  },
  {
   "cell_type": "code",
   "execution_count": 60,
   "id": "250fe3a6-1cba-4849-b77c-d5cc7cc7636d",
   "metadata": {},
   "outputs": [
    {
     "name": "stdout",
     "output_type": "stream",
     "text": [
      "25p value is: 34015.48\n",
      "\n",
      "50p value is: 70308.21\n",
      "\n",
      "75p value is: 107735.51\n"
     ]
    }
   ],
   "source": [
    "\n",
    "\n",
    "# USING NUMPY ON PANDAS DATFRAME visa_df TO FIND 25 PERCENTILE,50 PERCENTILE AND 75 PERCENTILE VAUES ON WAGE NUMERICAL COL \n",
    "\n",
    "\n",
    "wage_25p=round(np.percentile(visa_df['prevailing_wage'],25),2)              # WAGE 25 PERCENTILE, ROUND OFF TO 2 PLACES\n",
    "\n",
    "wage_50p=round(np.percentile(visa_df['prevailing_wage'],50),2)               # WAGE 50 PERCENTILE, ROUND OFF TO 2 PLACES\n",
    "\n",
    "wage_75p=round(np.percentile(visa_df['prevailing_wage'],75),2)              # WAGE 75 PERCENTILE, ROUND OFF TO 2 PLACES\n",
    "\n",
    "print(\"25p value is:\",wage_25p)\n",
    "\n",
    "print(\"\\n50p value is:\",wage_50p)                                                     # using \\n for newline\n",
    "\n",
    "print(\"\\n75p value is:\",wage_75p)\n",
    "\n"
   ]
  },
  {
   "cell_type": "code",
   "execution_count": 66,
   "id": "4f1230a4-2901-43ac-bac1-9070c2a330dd",
   "metadata": {},
   "outputs": [
    {
     "data": {
      "text/html": [
       "<div>\n",
       "<style scoped>\n",
       "    .dataframe tbody tr th:only-of-type {\n",
       "        vertical-align: middle;\n",
       "    }\n",
       "\n",
       "    .dataframe tbody tr th {\n",
       "        vertical-align: top;\n",
       "    }\n",
       "\n",
       "    .dataframe thead th {\n",
       "        text-align: right;\n",
       "    }\n",
       "</style>\n",
       "<table border=\"1\" class=\"dataframe\">\n",
       "  <thead>\n",
       "    <tr style=\"text-align: right;\">\n",
       "      <th></th>\n",
       "      <th>prevailing_wage</th>\n",
       "    </tr>\n",
       "  </thead>\n",
       "  <tbody>\n",
       "    <tr>\n",
       "      <th>count</th>\n",
       "      <td>25480.0000</td>\n",
       "    </tr>\n",
       "    <tr>\n",
       "      <th>min</th>\n",
       "      <td>2.1367</td>\n",
       "    </tr>\n",
       "    <tr>\n",
       "      <th>max</th>\n",
       "      <td>319210.2700</td>\n",
       "    </tr>\n",
       "    <tr>\n",
       "      <th>mean</th>\n",
       "      <td>74455.8100</td>\n",
       "    </tr>\n",
       "    <tr>\n",
       "      <th>median</th>\n",
       "      <td>70308.2100</td>\n",
       "    </tr>\n",
       "    <tr>\n",
       "      <th>std</th>\n",
       "      <td>52815.9400</td>\n",
       "    </tr>\n",
       "    <tr>\n",
       "      <th>25p</th>\n",
       "      <td>34015.4800</td>\n",
       "    </tr>\n",
       "    <tr>\n",
       "      <th>50p</th>\n",
       "      <td>70308.2100</td>\n",
       "    </tr>\n",
       "    <tr>\n",
       "      <th>75p</th>\n",
       "      <td>107735.5100</td>\n",
       "    </tr>\n",
       "  </tbody>\n",
       "</table>\n",
       "</div>"
      ],
      "text/plain": [
       "        prevailing_wage\n",
       "count        25480.0000\n",
       "min              2.1367\n",
       "max         319210.2700\n",
       "mean         74455.8100\n",
       "median       70308.2100\n",
       "std          52815.9400\n",
       "25p          34015.4800\n",
       "50p          70308.2100\n",
       "75p         107735.5100"
      ]
     },
     "execution_count": 66,
     "metadata": {},
     "output_type": "execute_result"
    }
   ],
   "source": [
    "\n",
    "\n",
    "# SUMMARIZING ALL THE ABOVE STATTISTICAL FUNCTIONS USING NUMPY FUNCTIONS:\n",
    "\n",
    "# use visadataset.csv , extract all statistical function outputs using PANDAS BUILT-IN METHODS AND NUMPY BUILT-IN METHODS \n",
    "\n",
    "\n",
    "\n",
    "count_wage=len(visa_df['prevailing_wage'])                                # USING PANDAS FUNCTION len()\n",
    "\n",
    "min_wage=min(visa_df['prevailing_wage'])                                   # USING PANDAS FUNCTION min()\n",
    "\n",
    "max_wage=max(visa_df['prevailing_wage'])                                  # USING PANDAS FUNCTION max()\n",
    "\n",
    "mean_wage=round(visa_df['prevailing_wage'].mean(),2)                       # USING PANDAS FUNCTION mean()\n",
    "\n",
    "median_wage=round(visa_df['prevailing_wage'].median(),2)                      # USING PANDAS FUNCTION median()\n",
    "\n",
    "std_wage=round(visa_df['prevailing_wage'].std(),2)                           # USING PANDAS FUNCTION std() ie standard deviation\n",
    "\n",
    "wage_25p=round(np.percentile(visa_df['prevailing_wage'],25),2)                   # USING NUMPY FUNCTION percentile(),25\n",
    "\n",
    "wage_50p=round(np.percentile(visa_df['prevailing_wage'],50),2)                   # USING NUMPY FUNCTION   percentile(),50\n",
    "\n",
    "wage_75p=round(np.percentile(visa_df['prevailing_wage'],75),2)                       # USING NUMPY FUNCTION percentile(),75\n",
    "\n",
    "values=[count_wage,min_wage,max_wage,\n",
    "        mean_wage,median_wage,std_wage,wage_25p,wage_50p,wage_75p]               # store all variable outputs to a  list 'values'\n",
    "\n",
    "index1=['count','min','max','mean','median','std','25p','50p','75p']                # store all string row headings to a list 'index1'\n",
    " \n",
    "cols=['prevailing_wage']                                                # column chosen is 'prevailing_wage'\n",
    "\n",
    "wage_df=pd.DataFrame(values,index=index1,columns=cols)                     #    STORE THE DATFRAME INTO A DATFRAME VAR    \n",
    "\n",
    "wage_df                                                                       # DISPLAY THE DATAFRAME VAR\n",
    "\n"
   ]
  },
  {
   "cell_type": "code",
   "execution_count": null,
   "id": "1f7160d2-b1b0-426a-bd2b-f34127426a4f",
   "metadata": {},
   "outputs": [],
   "source": [
    "# use for loop for above code "
   ]
  },
  {
   "cell_type": "code",
   "execution_count": null,
   "id": "48278d6c-fd7c-4668-be51-9354af364efd",
   "metadata": {},
   "outputs": [],
   "source": []
  },
  {
   "cell_type": "code",
   "execution_count": null,
   "id": "7f62f2a4-90a4-4321-99d8-9cfa194d5443",
   "metadata": {},
   "outputs": [],
   "source": []
  },
  {
   "cell_type": "code",
   "execution_count": null,
   "id": "43f12245-3128-4f96-9405-0abd61feff5b",
   "metadata": {},
   "outputs": [],
   "source": []
  }
 ],
 "metadata": {
  "kernelspec": {
   "display_name": "Python 3 (ipykernel)",
   "language": "python",
   "name": "python3"
  },
  "language_info": {
   "codemirror_mode": {
    "name": "ipython",
    "version": 3
   },
   "file_extension": ".py",
   "mimetype": "text/x-python",
   "name": "python",
   "nbconvert_exporter": "python",
   "pygments_lexer": "ipython3",
   "version": "3.11.7"
  }
 },
 "nbformat": 4,
 "nbformat_minor": 5
}
